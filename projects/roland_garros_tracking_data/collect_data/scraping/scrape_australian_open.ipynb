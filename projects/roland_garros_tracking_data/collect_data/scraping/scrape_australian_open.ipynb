{
 "cells": [
  {
   "cell_type": "markdown",
   "metadata": {},
   "source": [
    "This script was used to scrape all available tracking data from Australian Open's Court Vision Feature?\n",
    "\n",
    "The data collected include:\n",
    "\n",
    "* 2020\n",
    "* 2021\n"
   ]
  },
  {
   "cell_type": "code",
   "execution_count": 1,
   "metadata": {},
   "outputs": [],
   "source": [
    "import pandas as pd\n",
    "pd.set_option('display.max_rows', 1000)\n",
    "import json\n",
    "import requests\n"
   ]
  },
  {
   "cell_type": "code",
   "execution_count": 13,
   "metadata": {},
   "outputs": [],
   "source": [
    "import json\n",
    "import requests\n",
    "\n",
    "def save_tracking_data(year, num_matches = 120):\n",
    "    '''\n",
    "    Args:\n",
    "    -----\n",
    "    tournament_id [int]\n",
    "    year: [int]\n",
    "    '''\n",
    "\n",
    "    for i in range(101,num_matches):\n",
    "        match_num = str(i)\n",
    "        match_id = 'MS' + match_num\n",
    "\n",
    "        \n",
    "\n",
    "        #print(match_id)\n",
    "\n",
    "        api_url = ' https://itp-ao.infosys-platforms.com/api/court-vision/year/' + str(year) + '/eventId/580/matchId/' + match_id +'/pointId/0_0_0'\n",
    "        get_json_file = requests.get(api_url)\n",
    "\n",
    "        try:\n",
    "            tracking_data_json = get_json_file.json()\n",
    "\n",
    "        except ValueError:\n",
    "\n",
    "            #print('The Match {0} does not exist!'.format(match_id))\n",
    "\n",
    "            continue\n",
    "            \n",
    "        if not tracking_data_json['courtVisionData']:\n",
    "            #print('The Match {0} is empty!'.format(match_id))\n",
    "            \n",
    "            continue\n",
    "\n",
    "        file_name = 'ao_year_' + str(year)  + '_' + match_id + '_tracking_data.json'\n",
    "\n",
    "        with open(file_name, 'w') as json_file:\n",
    "            json.dump(tracking_data_json, json_file)"
   ]
  },
  {
   "cell_type": "code",
   "execution_count": 14,
   "metadata": {},
   "outputs": [],
   "source": [
    "save_tracking_data(year=2021, num_matches=900)\n"
   ]
  },
  {
   "cell_type": "code",
   "execution_count": 15,
   "metadata": {},
   "outputs": [],
   "source": [
    "save_tracking_data(year=2020, num_matches=900)"
   ]
  },
  {
   "cell_type": "code",
   "execution_count": 17,
   "metadata": {},
   "outputs": [],
   "source": [
    "\n",
    "with open('./ao_year_2020_MS101_tracking_data.json') as file_name:\n",
    "    pbp = json.load(file_name)"
   ]
  },
  {
   "cell_type": "code",
   "execution_count": 18,
   "metadata": {},
   "outputs": [
    {
     "data": {
      "text/plain": [
       "dict_keys(['isMatchComplete', 'eventType', 'courtName', 'courtId', 'pointsData', 'playersData', 'statsData', 'setsCompleted', 'pointId', 'matchStatus'])"
      ]
     },
     "execution_count": 18,
     "metadata": {},
     "output_type": "execute_result"
    }
   ],
   "source": [
    "pbp['courtVisionData'][0].keys()"
   ]
  },
  {
   "cell_type": "code",
   "execution_count": 19,
   "metadata": {},
   "outputs": [
    {
     "data": {
      "text/plain": [
       "212"
      ]
     },
     "execution_count": 19,
     "metadata": {},
     "output_type": "execute_result"
    }
   ],
   "source": [
    "len(pbp['courtVisionData'][0]['pointsData'].keys())"
   ]
  },
  {
   "cell_type": "markdown",
   "metadata": {},
   "source": [
    "WTA"
   ]
  },
  {
   "cell_type": "code",
   "execution_count": 22,
   "metadata": {},
   "outputs": [],
   "source": [
    "\n",
    "def save_tracking_data_wta(year, num_matches = 220):\n",
    "    '''\n",
    "    Args:\n",
    "    -----\n",
    "    tournament_id [int]\n",
    "    year: [int]\n",
    "    '''\n",
    "\n",
    "    for i in range(101,num_matches):\n",
    "        match_num = str(i)\n",
    "        match_id = 'WS' + match_num\n",
    "\n",
    "        \n",
    "        \n",
    "        #print(match_id)\n",
    "\n",
    "        api_url = ' https://itp-ao.infosys-platforms.com/api/court-vision/year/' + str(year) + '/eventId/580/matchId/' + match_id +'/pointId/0_0_0'\n",
    "        get_json_file = requests.get(api_url)\n",
    "\n",
    "        try:\n",
    "            tracking_data_json = get_json_file.json()\n",
    "\n",
    "        except ValueError:\n",
    "\n",
    "            #print('The Match {0} does not exist!'.format(match_id))\n",
    "\n",
    "            continue\n",
    "            \n",
    "        if not tracking_data_json['courtVisionData']:\n",
    "            #print('The Match {0} is empty!'.format(match_id))\n",
    "            \n",
    "            continue\n",
    "\n",
    "        file_name = 'wta_ao_year_' + str(year)  + '_' + match_id + '_tracking_data.json'\n",
    "\n",
    "        with open(file_name, 'w') as json_file:\n",
    "            json.dump(tracking_data_json, json_file)"
   ]
  },
  {
   "cell_type": "code",
   "execution_count": 24,
   "metadata": {},
   "outputs": [],
   "source": [
    "save_tracking_data_wta(year = 2020, num_matches=900)\n"
   ]
  },
  {
   "cell_type": "code",
   "execution_count": 25,
   "metadata": {},
   "outputs": [],
   "source": [
    "save_tracking_data_wta(year = 2021, num_matches=900)"
   ]
  },
  {
   "cell_type": "markdown",
   "metadata": {},
   "source": [
    "### Qualifying matches???"
   ]
  },
  {
   "cell_type": "code",
   "execution_count": 10,
   "metadata": {},
   "outputs": [],
   "source": [
    "\n",
    "def save_tracking_data_roland_garros_qual_men(year, num_matches = 20):\n",
    "    '''\n",
    "    Args:\n",
    "    -----\n",
    "    tournament_id [int]\n",
    "    year: [int]\n",
    "    '''\n",
    "\n",
    "    for i in range(1,num_matches):\n",
    "        if i < 10:\n",
    "            match_num = '0' + str(i)\n",
    "            match_id = 'QM0' + match_num\n",
    "        elif ( i >= 10) & (i < 100):\n",
    "            match_num = str(i)\n",
    "            match_id = 'QM0' + match_num\n",
    "        else:\n",
    "            match_num = str(i)\n",
    "            match_id = 'QM' + match_num\n",
    "\n",
    "        \n",
    "        \n",
    "        #print(match_id)\n",
    "\n",
    "        api_url = 'https://itp.infosys-platforms.com/api/rg/court-vision/year/' + str(year) + '/eventId/520/matchId/' + match_id +'/pointId/0_0_0'\n",
    "        get_json_file = requests.get(api_url)\n",
    "\n",
    "        try:\n",
    "            tracking_data_json = get_json_file.json()\n",
    "\n",
    "        except ValueError:\n",
    "\n",
    "            #print('The Match {0} does not exist!'.format(match_id))\n",
    "\n",
    "            continue\n",
    "            \n",
    "        if not tracking_data_json['courtVisionData']:\n",
    "            #print('The Match {0} is empty!'.format(match_id))\n",
    "            \n",
    "            continue\n",
    "\n",
    "        file_name = 'qual_men_year_' + str(year)  + '_' + match_id + '_tracking_data.json'\n",
    "\n",
    "        with open(file_name, 'w') as json_file:\n",
    "            json.dump(tracking_data_json, json_file)\n",
    "            \n",
    "            \n",
    "            \n",
    "\n",
    "def save_tracking_data_roland_garros_qual_women(year, num_matches = 20):\n",
    "    '''\n",
    "    Args:\n",
    "    -----\n",
    "    tournament_id [int]\n",
    "    year: [int]\n",
    "    '''\n",
    "\n",
    "    for i in range(1,num_matches):\n",
    "        if i < 10:\n",
    "            match_num = '0' + str(i)\n",
    "            match_id = 'QD0' + match_num\n",
    "        elif ( i >= 10) & (i < 100):\n",
    "            match_num = str(i)\n",
    "            match_id = 'QD0' + match_num\n",
    "        else:\n",
    "            match_num = str(i)\n",
    "            match_id = 'QD' + match_num\n",
    "\n",
    "        \n",
    "        \n",
    "        #print(match_id)\n",
    "\n",
    "        api_url = 'https://itp.infosys-platforms.com/api/rg/court-vision/year/' + str(year) + '/eventId/520/matchId/' + match_id +'/pointId/0_0_0'\n",
    "        get_json_file = requests.get(api_url)\n",
    "\n",
    "        try:\n",
    "            tracking_data_json = get_json_file.json()\n",
    "\n",
    "        except ValueError:\n",
    "\n",
    "            #print('The Match {0} does not exist!'.format(match_id))\n",
    "\n",
    "            continue\n",
    "            \n",
    "        if not tracking_data_json['courtVisionData']:\n",
    "            #print('The Match {0} is empty!'.format(match_id))\n",
    "            \n",
    "            continue\n",
    "\n",
    "        file_name = 'qual_women_year_' + str(year)  + '_' + match_id + '_tracking_data.json'\n",
    "\n",
    "        with open(file_name, 'w') as json_file:\n",
    "            json.dump(tracking_data_json, json_file)"
   ]
  },
  {
   "cell_type": "code",
   "execution_count": 11,
   "metadata": {},
   "outputs": [],
   "source": [
    "save_tracking_data_roland_garros_qual_men(year = 2020, num_matches=200)"
   ]
  },
  {
   "cell_type": "code",
   "execution_count": 12,
   "metadata": {},
   "outputs": [],
   "source": [
    "save_tracking_data_roland_garros_qual_men(year = 2019, num_matches=200)\n",
    "\n",
    "save_tracking_data_roland_garros_qual_women(year = 2020, num_matches=200)\n",
    "save_tracking_data_roland_garros_qual_women(year = 2019, num_matches=200)\n"
   ]
  },
  {
   "cell_type": "markdown",
   "metadata": {},
   "source": [
    "### Save Doubles Matches"
   ]
  },
  {
   "cell_type": "code",
   "execution_count": 14,
   "metadata": {},
   "outputs": [],
   "source": [
    "\n",
    "def save_tracking_data_roland_garros_doubles_men(year, num_matches = 20):\n",
    "    '''\n",
    "    Args:\n",
    "    -----\n",
    "    tournament_id [int]\n",
    "    year: [int]\n",
    "    '''\n",
    "\n",
    "    for i in range(1,num_matches):\n",
    "        if i < 10:\n",
    "            match_num = '0' + str(i)\n",
    "            match_id = 'DM0' + match_num\n",
    "        elif ( i >= 10) & (i < 100):\n",
    "            match_num = str(i)\n",
    "            match_id = 'DM0' + match_num\n",
    "        else:\n",
    "            match_num = str(i)\n",
    "            match_id = 'DM' + match_num\n",
    "\n",
    "        \n",
    "        \n",
    "        #print(match_id)\n",
    "\n",
    "        api_url = 'https://itp.infosys-platforms.com/api/rg/court-vision/year/' + str(year) + '/eventId/520/matchId/' + match_id +'/pointId/0_0_0'\n",
    "        get_json_file = requests.get(api_url)\n",
    "\n",
    "        try:\n",
    "            tracking_data_json = get_json_file.json()\n",
    "\n",
    "        except ValueError:\n",
    "\n",
    "            #print('The Match {0} does not exist!'.format(match_id))\n",
    "\n",
    "            continue\n",
    "            \n",
    "        if not tracking_data_json['courtVisionData']:\n",
    "            #print('The Match {0} is empty!'.format(match_id))\n",
    "            \n",
    "            continue\n",
    "\n",
    "        file_name = 'doubles_men_year_' + str(year)  + '_' + match_id + '_tracking_data.json'\n",
    "\n",
    "        with open(file_name, 'w') as json_file:\n",
    "            json.dump(tracking_data_json, json_file)\n",
    "            \n",
    "            \n",
    "            \n",
    "\n",
    "def save_tracking_data_roland_garros_doubles_women(year, num_matches = 20):\n",
    "    '''\n",
    "    Args:\n",
    "    -----\n",
    "    tournament_id [int]\n",
    "    year: [int]\n",
    "    '''\n",
    "\n",
    "    for i in range(1,num_matches):\n",
    "        if i < 10:\n",
    "            match_num = '0' + str(i)\n",
    "            match_id = 'DD0' + match_num\n",
    "        elif ( i >= 10) & (i < 100):\n",
    "            match_num = str(i)\n",
    "            match_id = 'DD0' + match_num\n",
    "        else:\n",
    "            match_num = str(i)\n",
    "            match_id = 'DD' + match_num\n",
    "\n",
    "        \n",
    "        \n",
    "        #print(match_id)\n",
    "\n",
    "        api_url = 'https://itp.infosys-platforms.com/api/rg/court-vision/year/' + str(year) + '/eventId/520/matchId/' + match_id +'/pointId/0_0_0'\n",
    "        get_json_file = requests.get(api_url)\n",
    "\n",
    "        try:\n",
    "            tracking_data_json = get_json_file.json()\n",
    "\n",
    "        except ValueError:\n",
    "\n",
    "            #print('The Match {0} does not exist!'.format(match_id))\n",
    "\n",
    "            continue\n",
    "            \n",
    "        if not tracking_data_json['courtVisionData']:\n",
    "            #print('The Match {0} is empty!'.format(match_id))\n",
    "            \n",
    "            continue\n",
    "\n",
    "        file_name = 'doubles_women_year_' + str(year)  + '_' + match_id + '_tracking_data.json'\n",
    "\n",
    "        with open(file_name, 'w') as json_file:\n",
    "            json.dump(tracking_data_json, json_file)"
   ]
  },
  {
   "cell_type": "code",
   "execution_count": 15,
   "metadata": {},
   "outputs": [],
   "source": [
    "save_tracking_data_roland_garros_doubles_men(year = 2020, num_matches=200)\n",
    "save_tracking_data_roland_garros_doubles_men(year = 2019, num_matches=200)\n",
    "\n",
    "save_tracking_data_roland_garros_doubles_women(year = 2020, num_matches=200)\n",
    "save_tracking_data_roland_garros_doubles_women(year = 2019, num_matches=200)\n"
   ]
  },
  {
   "cell_type": "code",
   "execution_count": null,
   "metadata": {},
   "outputs": [],
   "source": []
  }
 ],
 "metadata": {
  "kernelspec": {
   "display_name": "Python 3",
   "language": "python",
   "name": "python3"
  },
  "language_info": {
   "codemirror_mode": {
    "name": "ipython",
    "version": 3
   },
   "file_extension": ".py",
   "mimetype": "text/x-python",
   "name": "python",
   "nbconvert_exporter": "python",
   "pygments_lexer": "ipython3",
   "version": "3.8.5"
  }
 },
 "nbformat": 4,
 "nbformat_minor": 4
}
