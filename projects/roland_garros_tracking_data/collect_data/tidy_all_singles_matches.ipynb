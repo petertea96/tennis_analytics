{
 "cells": [
  {
   "cell_type": "markdown",
   "metadata": {},
   "source": [
    "# Save `.csv` files for both ATP & WTA Singles Matches"
   ]
  },
  {
   "cell_type": "code",
   "execution_count": 1,
   "metadata": {},
   "outputs": [],
   "source": [
    "import pandas as pd\n",
    "import numpy as np\n",
    "import json\n",
    "\n",
    "# --> Import functions from \"process\" script\n",
    "import sys\n",
    "sys.path.append('../src')\n",
    "\n",
    "from process import categorise_serve_direction, get_point_level_info, get_match_point_level_info, add_server_and_returner_scores, add_cum_games_and_sets\n"
   ]
  },
  {
   "cell_type": "code",
   "execution_count": 3,
   "metadata": {},
   "outputs": [],
   "source": [
    "matches_collected = pd.read_csv('./data/matches_in_repo.csv')\n",
    "\n",
    "atp_matches = matches_collected[matches_collected['match_type'] == \"Men's Singles\"]\n",
    "wta_matches = matches_collected[matches_collected['match_type'] == \"Women's Singles\"]"
   ]
  },
  {
   "cell_type": "code",
   "execution_count": 4,
   "metadata": {},
   "outputs": [],
   "source": [
    "atp_match_files = atp_matches['filename']\n",
    "wta_match_files = wta_matches['filename']"
   ]
  },
  {
   "cell_type": "code",
   "execution_count": 5,
   "metadata": {},
   "outputs": [
    {
     "data": {
      "text/plain": [
       "90"
      ]
     },
     "execution_count": 5,
     "metadata": {},
     "output_type": "execute_result"
    }
   ],
   "source": [
    "len(atp_match_files)"
   ]
  },
  {
   "cell_type": "code",
   "execution_count": 6,
   "metadata": {},
   "outputs": [],
   "source": [
    "#atp_files_to_ignore = np.where(atp_match_files == 'year_2019_SM003_tracking_data.json')[0][0]\n",
    "# This one file is messing everything up....\n",
    "# simply because it doesn't start with Point 1 !!!\n",
    "\n",
    "#year_2019_SM103_tracking_data.json # Games 6 and 7 of set 1 are missing..\n",
    "\n",
    "incomplete_data_list = ['year_2018_SM002_tracking_data.json',\n",
    "                        'year_2019_SM103_tracking_data.json',\n",
    "                        'year_2019_SM003_tracking_data.json', # Set 1 game 1 starts at point 3\n",
    "                        \n",
    "                       ]\n",
    "\n",
    "\n",
    "\n",
    "atp_match_files = atp_match_files[np.logical_not(atp_match_files.isin(incomplete_data_list))]"
   ]
  },
  {
   "cell_type": "code",
   "execution_count": 7,
   "metadata": {},
   "outputs": [
    {
     "name": "stdout",
     "output_type": "stream",
     "text": [
      "<_io.TextIOWrapper name='/Users/petertea/tennis_analytics/projects/roland_garros_tracking_data/json_data/year_2019_SM127_tracking_data.json' mode='r' encoding='UTF-8'>\n",
      "<_io.TextIOWrapper name='/Users/petertea/tennis_analytics/projects/roland_garros_tracking_data/json_data/year_2019_SM012_tracking_data.json' mode='r' encoding='UTF-8'>\n",
      "<_io.TextIOWrapper name='/Users/petertea/tennis_analytics/projects/roland_garros_tracking_data/json_data/year_2019_SM002_tracking_data.json' mode='r' encoding='UTF-8'>\n",
      "Index Error...\n",
      "<_io.TextIOWrapper name='/Users/petertea/tennis_analytics/projects/roland_garros_tracking_data/json_data/year_2019_SM032_tracking_data.json' mode='r' encoding='UTF-8'>\n",
      "<_io.TextIOWrapper name='/Users/petertea/tennis_analytics/projects/roland_garros_tracking_data/json_data/year_2019_SM087_tracking_data.json' mode='r' encoding='UTF-8'>\n",
      "<_io.TextIOWrapper name='/Users/petertea/tennis_analytics/projects/roland_garros_tracking_data/json_data/year_2019_SM021_tracking_data.json' mode='r' encoding='UTF-8'>\n",
      "<_io.TextIOWrapper name='/Users/petertea/tennis_analytics/projects/roland_garros_tracking_data/json_data/year_2019_SM031_tracking_data.json' mode='r' encoding='UTF-8'>\n",
      "<_io.TextIOWrapper name='/Users/petertea/tennis_analytics/projects/roland_garros_tracking_data/json_data/year_2019_SM001_tracking_data.json' mode='r' encoding='UTF-8'>\n",
      "<_io.TextIOWrapper name='/Users/petertea/tennis_analytics/projects/roland_garros_tracking_data/json_data/year_2019_SM011_tracking_data.json' mode='r' encoding='UTF-8'>\n",
      "<_io.TextIOWrapper name='/Users/petertea/tennis_analytics/projects/roland_garros_tracking_data/json_data/year_2019_SM007_tracking_data.json' mode='r' encoding='UTF-8'>\n",
      "<_io.TextIOWrapper name='/Users/petertea/tennis_analytics/projects/roland_garros_tracking_data/json_data/year_2019_SM064_tracking_data.json' mode='r' encoding='UTF-8'>\n",
      "<_io.TextIOWrapper name='/Users/petertea/tennis_analytics/projects/roland_garros_tracking_data/json_data/year_2019_SM079_tracking_data.json' mode='r' encoding='UTF-8'>\n",
      "<_io.TextIOWrapper name='/Users/petertea/tennis_analytics/projects/roland_garros_tracking_data/json_data/year_2019_SM112_tracking_data.json' mode='r' encoding='UTF-8'>\n",
      "Index Error...\n",
      "<_io.TextIOWrapper name='/Users/petertea/tennis_analytics/projects/roland_garros_tracking_data/json_data/year_2019_SM027_tracking_data.json' mode='r' encoding='UTF-8'>\n",
      "<_io.TextIOWrapper name='/Users/petertea/tennis_analytics/projects/roland_garros_tracking_data/json_data/year_2019_SM059_tracking_data.json' mode='r' encoding='UTF-8'>\n",
      "Index Error...\n",
      "Index Error...\n",
      "Index Error...\n",
      "<_io.TextIOWrapper name='/Users/petertea/tennis_analytics/projects/roland_garros_tracking_data/json_data/year_2019_SM091_tracking_data.json' mode='r' encoding='UTF-8'>\n",
      "<_io.TextIOWrapper name='/Users/petertea/tennis_analytics/projects/roland_garros_tracking_data/json_data/year_2019_SM111_tracking_data.json' mode='r' encoding='UTF-8'>\n",
      "<_io.TextIOWrapper name='/Users/petertea/tennis_analytics/projects/roland_garros_tracking_data/json_data/year_2019_SM024_tracking_data.json' mode='r' encoding='UTF-8'>\n",
      "<_io.TextIOWrapper name='/Users/petertea/tennis_analytics/projects/roland_garros_tracking_data/json_data/year_2019_SM014_tracking_data.json' mode='r' encoding='UTF-8'>\n",
      "<_io.TextIOWrapper name='/Users/petertea/tennis_analytics/projects/roland_garros_tracking_data/json_data/year_2019_SM004_tracking_data.json' mode='r' encoding='UTF-8'>\n",
      "<_io.TextIOWrapper name='/Users/petertea/tennis_analytics/projects/roland_garros_tracking_data/json_data/year_2019_SM009_tracking_data.json' mode='r' encoding='UTF-8'>\n",
      "<_io.TextIOWrapper name='/Users/petertea/tennis_analytics/projects/roland_garros_tracking_data/json_data/year_2019_SM080_tracking_data.json' mode='r' encoding='UTF-8'>\n",
      "<_io.TextIOWrapper name='/Users/petertea/tennis_analytics/projects/roland_garros_tracking_data/json_data/year_2019_SM056_tracking_data.json' mode='r' encoding='UTF-8'>\n",
      "<_io.TextIOWrapper name='/Users/petertea/tennis_analytics/projects/roland_garros_tracking_data/json_data/year_2019_SM005_tracking_data.json' mode='r' encoding='UTF-8'>\n",
      "<_io.TextIOWrapper name='/Users/petertea/tennis_analytics/projects/roland_garros_tracking_data/json_data/year_2019_SM008_tracking_data.json' mode='r' encoding='UTF-8'>\n",
      "<_io.TextIOWrapper name='/Users/petertea/tennis_analytics/projects/roland_garros_tracking_data/json_data/year_2019_SM018_tracking_data.json' mode='r' encoding='UTF-8'>\n",
      "<_io.TextIOWrapper name='/Users/petertea/tennis_analytics/projects/roland_garros_tracking_data/json_data/year_2019_SM015_tracking_data.json' mode='r' encoding='UTF-8'>\n",
      "<_io.TextIOWrapper name='/Users/petertea/tennis_analytics/projects/roland_garros_tracking_data/json_data/year_2019_SM016_tracking_data.json' mode='r' encoding='UTF-8'>\n",
      "<_io.TextIOWrapper name='/Users/petertea/tennis_analytics/projects/roland_garros_tracking_data/json_data/year_2019_SM006_tracking_data.json' mode='r' encoding='UTF-8'>\n",
      "<_io.TextIOWrapper name='/Users/petertea/tennis_analytics/projects/roland_garros_tracking_data/json_data/year_2019_SM055_tracking_data.json' mode='r' encoding='UTF-8'>\n",
      "<_io.TextIOWrapper name='/Users/petertea/tennis_analytics/projects/roland_garros_tracking_data/json_data/year_2019_SM113_tracking_data.json' mode='r' encoding='UTF-8'>\n",
      "<_io.TextIOWrapper name='/Users/petertea/tennis_analytics/projects/roland_garros_tracking_data/json_data/year_2019_SM045_tracking_data.json' mode='r' encoding='UTF-8'>\n",
      "<_io.TextIOWrapper name='/Users/petertea/tennis_analytics/projects/roland_garros_tracking_data/json_data/year_2019_SM095_tracking_data.json' mode='r' encoding='UTF-8'>\n",
      "<_io.TextIOWrapper name='/Users/petertea/tennis_analytics/projects/roland_garros_tracking_data/json_data/year_2019_SM020_tracking_data.json' mode='r' encoding='UTF-8'>\n",
      "<_io.TextIOWrapper name='/Users/petertea/tennis_analytics/projects/roland_garros_tracking_data/json_data/year_2019_SM043_tracking_data.json' mode='r' encoding='UTF-8'>\n",
      "<_io.TextIOWrapper name='/Users/petertea/tennis_analytics/projects/roland_garros_tracking_data/json_data/year_2019_SM010_tracking_data.json' mode='r' encoding='UTF-8'>\n",
      "<_io.TextIOWrapper name='/Users/petertea/tennis_analytics/projects/roland_garros_tracking_data/json_data/year_2019_SM063_tracking_data.json' mode='r' encoding='UTF-8'>\n",
      "<_io.TextIOWrapper name='/Users/petertea/tennis_analytics/projects/roland_garros_tracking_data/json_data/year_2019_SM013_tracking_data.json' mode='r' encoding='UTF-8'>\n",
      "Index Error...\n",
      "<_io.TextIOWrapper name='/Users/petertea/tennis_analytics/projects/roland_garros_tracking_data/json_data/year_2019_SM040_tracking_data.json' mode='r' encoding='UTF-8'>\n",
      "<_io.TextIOWrapper name='/Users/petertea/tennis_analytics/projects/roland_garros_tracking_data/json_data/year_2019_SM096_tracking_data.json' mode='r' encoding='UTF-8'>\n",
      "Index Error...\n",
      "Index Error...\n",
      "<_io.TextIOWrapper name='/Users/petertea/tennis_analytics/projects/roland_garros_tracking_data/json_data/year_2020_SM095_tracking_data.json' mode='r' encoding='UTF-8'>\n",
      "<_io.TextIOWrapper name='/Users/petertea/tennis_analytics/projects/roland_garros_tracking_data/json_data/year_2020_SM088_tracking_data.json' mode='r' encoding='UTF-8'>\n",
      "<_io.TextIOWrapper name='/Users/petertea/tennis_analytics/projects/roland_garros_tracking_data/json_data/year_2020_SM010_tracking_data.json' mode='r' encoding='UTF-8'>\n",
      "<_io.TextIOWrapper name='/Users/petertea/tennis_analytics/projects/roland_garros_tracking_data/json_data/year_2020_SM063_tracking_data.json' mode='r' encoding='UTF-8'>\n",
      "<_io.TextIOWrapper name='/Users/petertea/tennis_analytics/projects/roland_garros_tracking_data/json_data/year_2020_SM003_tracking_data.json' mode='r' encoding='UTF-8'>\n",
      "<_io.TextIOWrapper name='/Users/petertea/tennis_analytics/projects/roland_garros_tracking_data/json_data/year_2020_SM013_tracking_data.json' mode='r' encoding='UTF-8'>\n",
      "<_io.TextIOWrapper name='/Users/petertea/tennis_analytics/projects/roland_garros_tracking_data/json_data/year_2020_SM116_tracking_data.json' mode='r' encoding='UTF-8'>\n",
      "<_io.TextIOWrapper name='/Users/petertea/tennis_analytics/projects/roland_garros_tracking_data/json_data/year_2020_SM023_tracking_data.json' mode='r' encoding='UTF-8'>\n",
      "<_io.TextIOWrapper name='/Users/petertea/tennis_analytics/projects/roland_garros_tracking_data/json_data/year_2020_SM096_tracking_data.json' mode='r' encoding='UTF-8'>\n",
      "<_io.TextIOWrapper name='/Users/petertea/tennis_analytics/projects/roland_garros_tracking_data/json_data/year_2020_SM028_tracking_data.json' mode='r' encoding='UTF-8'>\n",
      "Index Error...\n",
      "<_io.TextIOWrapper name='/Users/petertea/tennis_analytics/projects/roland_garros_tracking_data/json_data/year_2020_SM080_tracking_data.json' mode='r' encoding='UTF-8'>\n",
      "<_io.TextIOWrapper name='/Users/petertea/tennis_analytics/projects/roland_garros_tracking_data/json_data/year_2020_SM056_tracking_data.json' mode='r' encoding='UTF-8'>\n",
      "<_io.TextIOWrapper name='/Users/petertea/tennis_analytics/projects/roland_garros_tracking_data/json_data/year_2020_SM100_tracking_data.json' mode='r' encoding='UTF-8'>\n",
      "<_io.TextIOWrapper name='/Users/petertea/tennis_analytics/projects/roland_garros_tracking_data/json_data/year_2020_SM008_tracking_data.json' mode='r' encoding='UTF-8'>\n",
      "<_io.TextIOWrapper name='/Users/petertea/tennis_analytics/projects/roland_garros_tracking_data/json_data/year_2020_SM005_tracking_data.json' mode='r' encoding='UTF-8'>\n",
      "<_io.TextIOWrapper name='/Users/petertea/tennis_analytics/projects/roland_garros_tracking_data/json_data/year_2020_SM015_tracking_data.json' mode='r' encoding='UTF-8'>\n",
      "<_io.TextIOWrapper name='/Users/petertea/tennis_analytics/projects/roland_garros_tracking_data/json_data/year_2020_SM018_tracking_data.json' mode='r' encoding='UTF-8'>\n",
      "<_io.TextIOWrapper name='/Users/petertea/tennis_analytics/projects/roland_garros_tracking_data/json_data/year_2020_SM123_tracking_data.json' mode='r' encoding='UTF-8'>\n",
      "<_io.TextIOWrapper name='/Users/petertea/tennis_analytics/projects/roland_garros_tracking_data/json_data/year_2020_SM016_tracking_data.json' mode='r' encoding='UTF-8'>\n",
      "<_io.TextIOWrapper name='/Users/petertea/tennis_analytics/projects/roland_garros_tracking_data/json_data/year_2020_SM006_tracking_data.json' mode='r' encoding='UTF-8'>\n",
      "<_io.TextIOWrapper name='/Users/petertea/tennis_analytics/projects/roland_garros_tracking_data/json_data/year_2020_SM055_tracking_data.json' mode='r' encoding='UTF-8'>\n",
      "<_io.TextIOWrapper name='/Users/petertea/tennis_analytics/projects/roland_garros_tracking_data/json_data/year_2020_SM103_tracking_data.json' mode='r' encoding='UTF-8'>\n",
      "<_io.TextIOWrapper name='/Users/petertea/tennis_analytics/projects/roland_garros_tracking_data/json_data/year_2020_SM026_tracking_data.json' mode='r' encoding='UTF-8'>\n",
      "<_io.TextIOWrapper name='/Users/petertea/tennis_analytics/projects/roland_garros_tracking_data/json_data/year_2020_SM007_tracking_data.json' mode='r' encoding='UTF-8'>\n",
      "<_io.TextIOWrapper name='/Users/petertea/tennis_analytics/projects/roland_garros_tracking_data/json_data/year_2020_SM064_tracking_data.json' mode='r' encoding='UTF-8'>\n",
      "<_io.TextIOWrapper name='/Users/petertea/tennis_analytics/projects/roland_garros_tracking_data/json_data/year_2020_SM079_tracking_data.json' mode='r' encoding='UTF-8'>\n",
      "Index Error...\n",
      "<_io.TextIOWrapper name='/Users/petertea/tennis_analytics/projects/roland_garros_tracking_data/json_data/year_2020_SM027_tracking_data.json' mode='r' encoding='UTF-8'>\n",
      "<_io.TextIOWrapper name='/Users/petertea/tennis_analytics/projects/roland_garros_tracking_data/json_data/year_2020_SM044_tracking_data.json' mode='r' encoding='UTF-8'>\n",
      "<_io.TextIOWrapper name='/Users/petertea/tennis_analytics/projects/roland_garros_tracking_data/json_data/year_2020_SM112_tracking_data.json' mode='r' encoding='UTF-8'>\n",
      "<_io.TextIOWrapper name='/Users/petertea/tennis_analytics/projects/roland_garros_tracking_data/json_data/year_2020_SM039_tracking_data.json' mode='r' encoding='UTF-8'>\n",
      "<_io.TextIOWrapper name='/Users/petertea/tennis_analytics/projects/roland_garros_tracking_data/json_data/year_2020_SM101_tracking_data.json' mode='r' encoding='UTF-8'>\n",
      "<_io.TextIOWrapper name='/Users/petertea/tennis_analytics/projects/roland_garros_tracking_data/json_data/year_2020_SM047_tracking_data.json' mode='r' encoding='UTF-8'>\n",
      "<_io.TextIOWrapper name='/Users/petertea/tennis_analytics/projects/roland_garros_tracking_data/json_data/year_2020_SM111_tracking_data.json' mode='r' encoding='UTF-8'>\n",
      "<_io.TextIOWrapper name='/Users/petertea/tennis_analytics/projects/roland_garros_tracking_data/json_data/year_2020_SM014_tracking_data.json' mode='r' encoding='UTF-8'>\n",
      "<_io.TextIOWrapper name='/Users/petertea/tennis_analytics/projects/roland_garros_tracking_data/json_data/year_2020_SM019_tracking_data.json' mode='r' encoding='UTF-8'>\n",
      "<_io.TextIOWrapper name='/Users/petertea/tennis_analytics/projects/roland_garros_tracking_data/json_data/year_2020_SM009_tracking_data.json' mode='r' encoding='UTF-8'>\n",
      "<_io.TextIOWrapper name='/Users/petertea/tennis_analytics/projects/roland_garros_tracking_data/json_data/year_2020_SM004_tracking_data.json' mode='r' encoding='UTF-8'>\n",
      "<_io.TextIOWrapper name='/Users/petertea/tennis_analytics/projects/roland_garros_tracking_data/json_data/year_2020_SM012_tracking_data.json' mode='r' encoding='UTF-8'>\n",
      "Index Error...\n",
      "<_io.TextIOWrapper name='/Users/petertea/tennis_analytics/projects/roland_garros_tracking_data/json_data/year_2020_SM127_tracking_data.json' mode='r' encoding='UTF-8'>\n",
      "<_io.TextIOWrapper name='/Users/petertea/tennis_analytics/projects/roland_garros_tracking_data/json_data/year_2020_SM002_tracking_data.json' mode='r' encoding='UTF-8'>\n",
      "<_io.TextIOWrapper name='/Users/petertea/tennis_analytics/projects/roland_garros_tracking_data/json_data/year_2020_SM032_tracking_data.json' mode='r' encoding='UTF-8'>\n",
      "<_io.TextIOWrapper name='/Users/petertea/tennis_analytics/projects/roland_garros_tracking_data/json_data/year_2020_SM119_tracking_data.json' mode='r' encoding='UTF-8'>\n",
      "<_io.TextIOWrapper name='/Users/petertea/tennis_analytics/projects/roland_garros_tracking_data/json_data/year_2020_SM104_tracking_data.json' mode='r' encoding='UTF-8'>\n",
      "<_io.TextIOWrapper name='/Users/petertea/tennis_analytics/projects/roland_garros_tracking_data/json_data/year_2020_SM031_tracking_data.json' mode='r' encoding='UTF-8'>\n",
      "<_io.TextIOWrapper name='/Users/petertea/tennis_analytics/projects/roland_garros_tracking_data/json_data/year_2020_SM052_tracking_data.json' mode='r' encoding='UTF-8'>\n",
      "<_io.TextIOWrapper name='/Users/petertea/tennis_analytics/projects/roland_garros_tracking_data/json_data/year_2020_SM001_tracking_data.json' mode='r' encoding='UTF-8'>\n",
      "<_io.TextIOWrapper name='/Users/petertea/tennis_analytics/projects/roland_garros_tracking_data/json_data/year_2020_SM011_tracking_data.json' mode='r' encoding='UTF-8'>\n"
     ]
    }
   ],
   "source": [
    "atp_data_frame = pd.DataFrame([])\n",
    "for atp_match_filename in atp_match_files:\n",
    "    \n",
    "    with open('/Users/petertea/tennis_analytics/projects/roland_garros_tracking_data/json_data/' + atp_match_filename) as filename:\n",
    "      atp_tracking_data_json = json.load(filename)\n",
    "    \n",
    "    print(filename)\n",
    "    \n",
    "    data_to_add = get_match_point_level_info(atp_tracking_data_json)\n",
    "    data_to_add['match_id'] = atp_match_filename\n",
    "    \n",
    "    year = [int(s) for s in atp_match_filename.split('_') if s.isdigit()][0]\n",
    "    data_to_add['year'] = year\n",
    "    atp_data_frame = atp_data_frame.append( data_to_add )\n",
    "\n"
   ]
  },
  {
   "cell_type": "code",
   "execution_count": 8,
   "metadata": {},
   "outputs": [],
   "source": [
    "atp_data_frame.to_csv('atp_roland_garros_19_20.csv', index=False)"
   ]
  },
  {
   "cell_type": "code",
   "execution_count": 9,
   "metadata": {},
   "outputs": [
    {
     "name": "stdout",
     "output_type": "stream",
     "text": [
      "Index Error...\n",
      "Index Error...\n",
      "Index Error...\n",
      "Index Error...\n"
     ]
    }
   ],
   "source": [
    "wta_data_frame = pd.DataFrame([])\n",
    "for wta_match_filename in wta_match_files:\n",
    "    \n",
    "    with open('/Users/petertea/tennis_analytics/projects/roland_garros_tracking_data/json_data/' + wta_match_filename) as filename:\n",
    "      wta_tracking_data_json = json.load(filename)\n",
    "    \n",
    "    data_to_add = get_match_point_level_info(wta_tracking_data_json)\n",
    "    data_to_add['match_id'] = wta_match_filename\n",
    "    \n",
    "    year = [int(s) for s in wta_match_filename.split('_') if s.isdigit()][0]\n",
    "    data_to_add['year'] = year\n",
    "    wta_data_frame = wta_data_frame.append( data_to_add )"
   ]
  },
  {
   "cell_type": "code",
   "execution_count": 10,
   "metadata": {},
   "outputs": [],
   "source": [
    "wta_data_frame.to_csv('wta_roland_garros_19_20.csv', index=False)"
   ]
  },
  {
   "cell_type": "code",
   "execution_count": null,
   "metadata": {},
   "outputs": [],
   "source": []
  },
  {
   "cell_type": "markdown",
   "metadata": {},
   "source": [
    "### Repeat, now for Australian Open Data"
   ]
  },
  {
   "cell_type": "code",
   "execution_count": 11,
   "metadata": {},
   "outputs": [],
   "source": [
    "matches_collected = pd.read_csv('./data/ao_matches_in_repo.csv')\n",
    "\n",
    "atp_matches = matches_collected[matches_collected['match_type'] == \"Men's Singles\"]\n",
    "wta_matches = matches_collected[matches_collected['match_type'] == \"Women's Singles\"]\n",
    "\n",
    "atp_match_files = atp_matches['filename']\n",
    "wta_match_files = wta_matches['filename']\n"
   ]
  },
  {
   "cell_type": "code",
   "execution_count": null,
   "metadata": {},
   "outputs": [],
   "source": []
  },
  {
   "cell_type": "code",
   "execution_count": 12,
   "metadata": {},
   "outputs": [],
   "source": [
    "incomplete_data_list = ['ao_year_2020_MS153_tracking_data.json', 'ao_year_2020_MS145_tracking_data.json',\n",
    "                        'ao_year_2021_MS105_tracking_data.json', 'ao_year_2021_MS106_tracking_data.json',\n",
    "                        'ao_year_2021_MS111_tracking_data.json',\n",
    "                        'ao_year_2020_MS163_tracking_data.json',#1_7_1_1 missing 2nd point of set 1, game 7\n",
    "                        'ao_year_2020_MS111_tracking_data.json',\n",
    "                        'ao_year_2021_MS110_tracking_data.json',\n",
    "                        'ao_year_2021_MS163_tracking_data.json',\n",
    "                        'ao_year_2021_MS202_tracking_data.json',\n",
    "                        'ao_year_2021_MS103_tracking_data.json',\n",
    "                        'ao_year_2021_MS113_tracking_data.json',\n",
    "                        'ao_year_2021_MS306_tracking_data.json'\n",
    "                       ]\n",
    "\n",
    "\n",
    "atp_match_files = atp_match_files[np.logical_not(atp_match_files.isin(incomplete_data_list))]\n",
    "\n"
   ]
  },
  {
   "cell_type": "code",
   "execution_count": 13,
   "metadata": {},
   "outputs": [],
   "source": [
    "%%capture \n",
    "# Supresses print message\n",
    "atp_data_frame = pd.DataFrame([])\n",
    "for atp_match_filename in atp_match_files:\n",
    "    \n",
    "    with open('/Users/petertea/tennis_analytics/projects/roland_garros_tracking_data/ao_json_data/' + atp_match_filename) as filename:\n",
    "      atp_tracking_data_json = json.load(filename)\n",
    "    \n",
    "    print(filename)\n",
    "    \n",
    "    data_to_add = get_match_point_level_info(atp_tracking_data_json)\n",
    "    data_to_add['match_id'] = atp_match_filename\n",
    "    \n",
    "    year = [int(s) for s in atp_match_filename.split('_') if s.isdigit()][0]\n",
    "    data_to_add['year'] = year\n",
    "    atp_data_frame = atp_data_frame.append( data_to_add )"
   ]
  },
  {
   "cell_type": "code",
   "execution_count": 14,
   "metadata": {},
   "outputs": [],
   "source": [
    "atp_data_frame.to_csv('atp_australian_open_20_21.csv', index=False)"
   ]
  },
  {
   "cell_type": "code",
   "execution_count": 15,
   "metadata": {},
   "outputs": [],
   "source": [
    "%%capture \n",
    "\n",
    "incomplete_wta_ao_files = ['wta_ao_year_2021_WS232_tracking_data.json']\n",
    "wta_match_files = wta_match_files[np.logical_not(wta_match_files.isin(incomplete_wta_ao_files))]\n",
    "\n",
    "\n",
    "\n",
    "wta_data_frame = pd.DataFrame([])\n",
    "for wta_match_filename in wta_match_files:\n",
    "    \n",
    "    with open('/Users/petertea/tennis_analytics/projects/roland_garros_tracking_data/ao_json_data/' + wta_match_filename) as filename:\n",
    "      wta_tracking_data_json = json.load(filename)\n",
    "    \n",
    "    print(filename)\n",
    "    \n",
    "    data_to_add = get_match_point_level_info(wta_tracking_data_json)\n",
    "    data_to_add['match_id'] = wta_match_filename\n",
    "    \n",
    "    year = [int(s) for s in wta_match_filename.split('_') if s.isdigit()][0]\n",
    "    data_to_add['year'] = year\n",
    "    wta_data_frame = wta_data_frame.append( data_to_add )"
   ]
  },
  {
   "cell_type": "code",
   "execution_count": 16,
   "metadata": {},
   "outputs": [],
   "source": [
    "wta_data_frame.to_csv('wta_australian_open_20_21.csv', index=False)"
   ]
  },
  {
   "cell_type": "code",
   "execution_count": null,
   "metadata": {},
   "outputs": [],
   "source": []
  }
 ],
 "metadata": {
  "kernelspec": {
   "display_name": "Python 3",
   "language": "python",
   "name": "python3"
  },
  "language_info": {
   "codemirror_mode": {
    "name": "ipython",
    "version": 3
   },
   "file_extension": ".py",
   "mimetype": "text/x-python",
   "name": "python",
   "nbconvert_exporter": "python",
   "pygments_lexer": "ipython3",
   "version": "3.8.5"
  }
 },
 "nbformat": 4,
 "nbformat_minor": 4
}
