{
 "cells": [
  {
   "cell_type": "markdown",
   "metadata": {},
   "source": [
    "# Cleaning Roland Garros tracking data"
   ]
  },
  {
   "cell_type": "code",
   "execution_count": 1,
   "metadata": {},
   "outputs": [],
   "source": [
    "import json\n",
    "import pandas as pd"
   ]
  },
  {
   "cell_type": "code",
   "execution_count": 8,
   "metadata": {},
   "outputs": [],
   "source": [
    "# Open one tracking json file\n",
    "with open('json_data/year_2020_SM001_tracking_data.json') as filename:\n",
    "  atp_tracking_data_json = json.load(filename)"
   ]
  },
  {
   "cell_type": "code",
   "execution_count": 9,
   "metadata": {},
   "outputs": [
    {
     "data": {
      "text/plain": [
       "dict_keys(['pointsData', 'eventType', 'matchStatus', 'playersData', 'pointId', 'isMatchComplete', 'statsData', 'courtName', 'courtId', 'setsCompleted'])"
      ]
     },
     "execution_count": 9,
     "metadata": {},
     "output_type": "execute_result"
    }
   ],
   "source": [
    "atp_tracking_data_dict = atp_tracking_data_json['courtVisionData'][0]\n",
    "atp_tracking_data_dict.keys()"
   ]
  },
  {
   "cell_type": "code",
   "execution_count": null,
   "metadata": {},
   "outputs": [],
   "source": []
  },
  {
   "cell_type": "markdown",
   "metadata": {},
   "source": [
    "### Play - by - Play tracking data"
   ]
  },
  {
   "cell_type": "code",
   "execution_count": 40,
   "metadata": {},
   "outputs": [],
   "source": [
    "# -- Sort point ids in order\n",
    "#sorted(atp_tracking_data_dict['pointsData'].keys())"
   ]
  },
  {
   "cell_type": "code",
   "execution_count": 43,
   "metadata": {},
   "outputs": [],
   "source": [
    "# Play - by play tracking data\n",
    "point_id = '1_1_6_1'\n",
    "one_point_sequence = atp_tracking_data_dict['pointsData'][point_id]\n"
   ]
  },
  {
   "cell_type": "code",
   "execution_count": 45,
   "metadata": {},
   "outputs": [
    {
     "data": {
      "text/plain": [
       "dict_keys(['set', 'serverId', 'scorerId', 'heightAboveNet', 'trappedByNet', 'ballHitCordinate', 'ballPeakCordinate', 'ballBounceCordinate', 'id', 'court', 'pointNumber', 'point', 'receiverId', 'heightAboveNetFrench', 'distanceOutsideCourt', 'runAroundForeHand', 'trajectoryData', 'distanceOutsideCourtFrench', 'rallyLength', 'ballSpeedFrench', 'serveType', 'errorType', 'serve', 'pointId', 'hand', 'game', 'pointEndType', 'cruciality', 'returnSpeed', 'serverCordinate', 'spin', 'winnerPlacement', 'setNumber', 'returnPlacement', 'receiverCordinate', 'ballSpeed', 'ballNetCordinate', 'serveBounceCordinate', 'breakPointConverted', 'ballLastCordinate', 'unforcedErrorPlacement', 'strokeType', 'breakPoint', 'returnSpeedFrench'])"
      ]
     },
     "execution_count": 45,
     "metadata": {},
     "output_type": "execute_result"
    }
   ],
   "source": [
    "one_point_sequence.keys()"
   ]
  },
  {
   "cell_type": "code",
   "execution_count": 85,
   "metadata": {},
   "outputs": [],
   "source": [
    "set_num = int(one_point_sequence['set'])\n",
    "set_num_v2 = int(one_point_sequence['setNumber'])\n",
    "game_num = int(one_point_sequence['game'])\n",
    "server_id = int(one_point_sequence['serverId'])\n",
    "returner_id = int(one_point_sequence['receiverId'])\n",
    "point_winner_id = int(one_point_sequence['scorerId'])\n",
    "court_side = one_point_sequence['court']\n",
    "rally_length = one_point_sequence['rallyLength']\n",
    "\n",
    "point_end_type = one_point_sequence['pointEndType']\n",
    "error_type = one_point_sequence['errorType']\n",
    "winner_placement = one_point_sequence['winnerPlacement']\n",
    "\n",
    "# Serve Stats\n",
    "serve_number = one_point_sequence['serve']\n",
    "serve_speed_kph = one_point_sequence['ballSpeedFrench']\n",
    "serve_speed_v2 = one_point_sequence['ballSpeed']\n",
    "serve_type = one_point_sequence['serveType']\n",
    "\n",
    "# Guesses\n",
    "net_clearance_ft = one_point_sequence['heightAboveNet']\n",
    "net_clearance_ft_m = one_point_sequence['heightAboveNetFrench']\n",
    "point_id = one_point_sequence['pointId']\n",
    "\n",
    "# Unknowns\n",
    "trapped_by_net = one_point_sequence['trappedByNet']\n",
    "ID = one_point_sequence['id']\n",
    "point_number = one_point_sequence['point'] # ***\n",
    "point_number_2 = one_point_sequence['pointNumber']\n",
    "distanceOutsideCourt = one_point_sequence['distanceOutsideCourt']\n",
    "distanceOutsideCourt_fr = one_point_sequence['distanceOutsideCourtFrench']\n",
    "runAroundForeHand = one_point_sequence['runAroundForeHand']\n",
    "\n",
    "hand = one_point_sequence['hand']\n",
    "cruciality = one_point_sequence['cruciality']\n",
    "return_speed = one_point_sequence['returnSpeed']\n",
    "spin = one_point_sequence['spin']\n",
    "return_placement = one_point_sequence['returnPlacement']"
   ]
  },
  {
   "cell_type": "code",
   "execution_count": 90,
   "metadata": {},
   "outputs": [
    {
     "data": {
      "text/plain": [
       "{'y': -1.123, 'x': 0.0, 'z': 1.527, 'erroneousBall': False}"
      ]
     },
     "execution_count": 90,
     "metadata": {},
     "output_type": "execute_result"
    }
   ],
   "source": []
  },
  {
   "cell_type": "code",
   "execution_count": null,
   "metadata": {},
   "outputs": [],
   "source": [
    "### Coordinate data from pointsData\n",
    "one_point_sequence['ballHitCordinate']\n",
    "one_point_sequence['ballPeakCordinate']\n",
    "one_point_sequence['ballBounceCordinate']\n",
    "one_point_sequence['trajectoryData']\n",
    "\n",
    "one_point_sequence['serverCordinate']\n",
    "one_point_sequence['receiverCordinate']\n",
    "one_point_sequence['ballNetCordinate']"
   ]
  },
  {
   "cell_type": "code",
   "execution_count": null,
   "metadata": {},
   "outputs": [],
   "source": [
    "atp_tracking_data_dict['statsData']"
   ]
  },
  {
   "cell_type": "code",
   "execution_count": null,
   "metadata": {},
   "outputs": [],
   "source": []
  }
 ],
 "metadata": {
  "kernelspec": {
   "display_name": "Python 3",
   "language": "python",
   "name": "python3"
  },
  "language_info": {
   "codemirror_mode": {
    "name": "ipython",
    "version": 3
   },
   "file_extension": ".py",
   "mimetype": "text/x-python",
   "name": "python",
   "nbconvert_exporter": "python",
   "pygments_lexer": "ipython3",
   "version": "3.8.5"
  }
 },
 "nbformat": 4,
 "nbformat_minor": 4
}
