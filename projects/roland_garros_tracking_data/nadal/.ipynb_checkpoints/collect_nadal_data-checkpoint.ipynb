{
 "cells": [
  {
   "cell_type": "markdown",
   "metadata": {},
   "source": [
    "# Save Nadal Data"
   ]
  },
  {
   "cell_type": "code",
   "execution_count": 1,
   "metadata": {},
   "outputs": [],
   "source": [
    "import pandas as pd\n",
    "import json\n",
    "\n",
    "# --> Import functions from \"process\" script\n",
    "import sys\n",
    "sys.path.append('../src')\n",
    "\n",
    "from process import categorise_serve_direction, get_point_level_info, get_match_point_level_info\n",
    "\n",
    "\n"
   ]
  },
  {
   "cell_type": "code",
   "execution_count": 10,
   "metadata": {},
   "outputs": [],
   "source": [
    "# -- > List of all json files with Rafa\n",
    "nadal_match_list = ['year_2019_SM001_tracking_data.json',\n",
    "                    'year_2019_SM003_tracking_data.json',\n",
    "                    'year_2019_SM007_tracking_data.json',\n",
    "                    'year_2019_SM015_tracking_data.json',\n",
    "                    'year_2019_SM031_tracking_data.json',\n",
    "                    'year_2019_SM063_tracking_data.json',\n",
    "                    'year_2019_SM127_tracking_data.json',\n",
    "                    'year_2020_SM001_tracking_data.json',\n",
    "                    'year_2020_SM003_tracking_data.json',\n",
    "                    'year_2020_SM007_tracking_data.json',\n",
    "                    'year_2020_SM015_tracking_data.json',\n",
    "                    'year_2020_SM031_tracking_data.json',\n",
    "                    'year_2020_SM063_tracking_data.json',\n",
    "                    'year_2020_SM127_tracking_data.json']\n",
    "\n",
    "\n",
    "rafa_data_frame = pd.DataFrame([])\n",
    "for nadal_match_filename in nadal_match_list:\n",
    "    \n",
    "    with open('/Users/petertea/tennis_analytics/projects/roland_garros_tracking_data/json_data/' + nadal_match_filename) as filename:\n",
    "      rafa_tracking_data_json = json.load(filename)\n",
    "    \n",
    "    data_to_add = get_match_point_level_info(rafa_tracking_data_json)\n",
    "    data_to_add['match_id'] = nadal_match_filename\n",
    "    \n",
    "    year = [int(s) for s in nadal_match_filename.split('_') if s.isdigit()][0]\n",
    "    data_to_add['year'] = year\n",
    "    rafa_data_frame = rafa_data_frame.append( data_to_add )\n",
    "\n",
    "\n",
    "\n",
    "\n"
   ]
  },
  {
   "cell_type": "code",
   "execution_count": 11,
   "metadata": {},
   "outputs": [],
   "source": [
    "rafa_data_frame.to_csv('rafa_roland_garros_19_20.csv', index=False)"
   ]
  },
  {
   "cell_type": "code",
   "execution_count": null,
   "metadata": {},
   "outputs": [],
   "source": []
  }
 ],
 "metadata": {
  "kernelspec": {
   "display_name": "Python 3",
   "language": "python",
   "name": "python3"
  },
  "language_info": {
   "codemirror_mode": {
    "name": "ipython",
    "version": 3
   },
   "file_extension": ".py",
   "mimetype": "text/x-python",
   "name": "python",
   "nbconvert_exporter": "python",
   "pygments_lexer": "ipython3",
   "version": "3.8.5"
  }
 },
 "nbformat": 4,
 "nbformat_minor": 4
}
