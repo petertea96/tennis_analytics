{
 "cells": [
  {
   "cell_type": "markdown",
   "metadata": {},
   "source": [
    "# Functions to extract information from json files"
   ]
  },
  {
   "cell_type": "code",
   "execution_count": 4,
   "metadata": {},
   "outputs": [],
   "source": [
    "import json\n",
    "import pandas as pd\n",
    "import os"
   ]
  },
  {
   "cell_type": "code",
   "execution_count": 2,
   "metadata": {},
   "outputs": [],
   "source": [
    "def get_match_level_info(tracking_data_json):\n",
    "    '''\n",
    "    Args:\n",
    "    -----\n",
    "    tracking_data_json [json]: Json file\n",
    "    \n",
    "    Returns:\n",
    "    --------\n",
    "    dict of row to append into a dataframe\n",
    "    '''\n",
    "    \n",
    "    # Get to the crux of the information\n",
    "    tracking_data_dict = tracking_data_json['courtVisionData'][0]\n",
    "    \n",
    "    #atp_tracking_data_dict['isMatchComplete']\n",
    "\n",
    "\n",
    "    # -----------------------------\n",
    "    # Player information\n",
    "    # -----------------------------\n",
    "    player1_info = tracking_data_dict['playersData']['playerTeam']\n",
    "    player2_info = tracking_data_dict['playersData']['opponentTeam']\n",
    "\n",
    "    \n",
    "    match_dict = dict(\n",
    "        player1 = player1_info[0]['name'],\n",
    "        player2 = player2_info[0]['name'],\n",
    "        player1_id = player1_info[0]['id'],\n",
    "        player1_country = player1_info[0]['country'],\n",
    "        player1_seed = player1_info[0]['seed'],\n",
    "        player2_id = player2_info[0]['id'],\n",
    "        player2_country = player2_info[0]['country'],\n",
    "        player2_seed = player2_info[0]['seed'],\n",
    "        \n",
    "    # -------------------------------\n",
    "    # - I have no idea what this is\n",
    "    # -------------------------------\n",
    "        point_id = tracking_data_dict['pointId'],\n",
    "        court_name = tracking_data_dict['courtName'],\n",
    "        court_id = tracking_data_dict['courtId'],\n",
    "        num_sets_completed = tracking_data_dict['setsCompleted'],\n",
    "        \n",
    "        # Mens/Womens Singles/ Doubles\n",
    "        match_type = tracking_data_dict['eventType'],\n",
    "\n",
    "        # Complete status?\n",
    "        match_status = tracking_data_dict['matchStatus']\n",
    "        \n",
    "        \n",
    "    )\n",
    "    \n",
    "    return match_dict\n",
    "    \n",
    "    \n",
    "    "
   ]
  },
  {
   "cell_type": "code",
   "execution_count": 15,
   "metadata": {},
   "outputs": [
    {
     "data": {
      "text/html": [
       "<div>\n",
       "<style scoped>\n",
       "    .dataframe tbody tr th:only-of-type {\n",
       "        vertical-align: middle;\n",
       "    }\n",
       "\n",
       "    .dataframe tbody tr th {\n",
       "        vertical-align: top;\n",
       "    }\n",
       "\n",
       "    .dataframe thead th {\n",
       "        text-align: right;\n",
       "    }\n",
       "</style>\n",
       "<table border=\"1\" class=\"dataframe\">\n",
       "  <thead>\n",
       "    <tr style=\"text-align: right;\">\n",
       "      <th></th>\n",
       "      <th>player1</th>\n",
       "      <th>player2</th>\n",
       "      <th>player1_id</th>\n",
       "      <th>player1_country</th>\n",
       "      <th>player1_seed</th>\n",
       "      <th>player2_id</th>\n",
       "      <th>player2_country</th>\n",
       "      <th>player2_seed</th>\n",
       "      <th>point_id</th>\n",
       "      <th>court_name</th>\n",
       "      <th>court_id</th>\n",
       "      <th>num_sets_completed</th>\n",
       "      <th>match_type</th>\n",
       "      <th>match_status</th>\n",
       "    </tr>\n",
       "  </thead>\n",
       "  <tbody>\n",
       "    <tr>\n",
       "      <th>0</th>\n",
       "      <td>I.SWIATEK</td>\n",
       "      <td>S.KENIN</td>\n",
       "      <td>40613</td>\n",
       "      <td>POL</td>\n",
       "      <td></td>\n",
       "      <td>35854</td>\n",
       "      <td>USA</td>\n",
       "      <td>4</td>\n",
       "      <td>2_7_6</td>\n",
       "      <td>Court Philippe CHATRIER</td>\n",
       "      <td>1</td>\n",
       "      <td>2</td>\n",
       "      <td>Women's Singles</td>\n",
       "      <td>C</td>\n",
       "    </tr>\n",
       "    <tr>\n",
       "      <th>1</th>\n",
       "      <td>N.DJOKOVIC</td>\n",
       "      <td>R.NADAL</td>\n",
       "      <td>9801</td>\n",
       "      <td>SRB</td>\n",
       "      <td>1</td>\n",
       "      <td>7792</td>\n",
       "      <td>ESP</td>\n",
       "      <td>2</td>\n",
       "      <td>3_9_9</td>\n",
       "      <td>Court Philippe CHATRIER</td>\n",
       "      <td>1</td>\n",
       "      <td>3</td>\n",
       "      <td>Men's Singles</td>\n",
       "      <td>C</td>\n",
       "    </tr>\n",
       "  </tbody>\n",
       "</table>\n",
       "</div>"
      ],
      "text/plain": [
       "      player1  player2 player1_id player1_country player1_seed player2_id  \\\n",
       "0   I.SWIATEK  S.KENIN      40613             POL                   35854   \n",
       "1  N.DJOKOVIC  R.NADAL       9801             SRB            1       7792   \n",
       "\n",
       "  player2_country player2_seed point_id               court_name  court_id  \\\n",
       "0             USA            4    2_7_6  Court Philippe CHATRIER         1   \n",
       "1             ESP            2    3_9_9  Court Philippe CHATRIER         1   \n",
       "\n",
       "   num_sets_completed       match_type match_status  \n",
       "0                   2  Women's Singles            C  \n",
       "1                   3    Men's Singles            C  "
      ]
     },
     "execution_count": 15,
     "metadata": {},
     "output_type": "execute_result"
    }
   ],
   "source": [
    "### Loop through all json files in directory\n",
    "data_list = []\n",
    "\n",
    "for filename in os.listdir('./json_data/'):\n",
    "    if filename.endswith(\".json\"): \n",
    "         with open('./json_data/' + filename) as file_name:\n",
    "                tracking_data_json = json.load(file_name)\n",
    "                data_list.append(get_match_level_info(tracking_data_json))\n",
    "    else:\n",
    "        continue\n",
    "\n",
    "pd.DataFrame(data_list)\n"
   ]
  },
  {
   "cell_type": "markdown",
   "metadata": {},
   "source": [
    "### Notes:\n",
    "-----\n",
    "\n",
    "* I suspect `point_id` is the last point played ?\n",
    "    * Ex: `2_7_6` is | Set 2 | Game 7 | 6 ? |\n",
    "    * Ex: `3_9_9` is | Set 3 | Game ? Nadal vs Djokovic was game 12... | ... |"
   ]
  },
  {
   "cell_type": "code",
   "execution_count": null,
   "metadata": {},
   "outputs": [],
   "source": []
  },
  {
   "cell_type": "markdown",
   "metadata": {},
   "source": [
    "### Rough Notes"
   ]
  },
  {
   "cell_type": "code",
   "execution_count": 16,
   "metadata": {},
   "outputs": [],
   "source": [
    "# Open one tracking json file\n",
    "with open('json_data/year_2020_SM001_tracking_data.json') as filename:\n",
    "  atp_tracking_data_json = json.load(filename)"
   ]
  },
  {
   "cell_type": "code",
   "execution_count": 17,
   "metadata": {},
   "outputs": [
    {
     "data": {
      "text/plain": [
       "dict_keys(['pointsData', 'eventType', 'matchStatus', 'playersData', 'pointId', 'isMatchComplete', 'statsData', 'courtName', 'courtId', 'setsCompleted'])"
      ]
     },
     "execution_count": 17,
     "metadata": {},
     "output_type": "execute_result"
    }
   ],
   "source": [
    "atp_tracking_data_dict = atp_tracking_data_json['courtVisionData'][0]\n",
    "atp_tracking_data_dict.keys()"
   ]
  },
  {
   "cell_type": "code",
   "execution_count": 19,
   "metadata": {},
   "outputs": [
    {
     "data": {
      "text/plain": [
       "3"
      ]
     },
     "execution_count": 19,
     "metadata": {},
     "output_type": "execute_result"
    }
   ],
   "source": [
    "# *********************************************************************************\n",
    "#                Scrape match stats (anything that isn't point-by-point)\n",
    "# *********************************************************************************\n",
    "\n",
    "# Mens/Womens Singles/ Doubles\n",
    "atp_tracking_data_dict['eventType']\n",
    "\n",
    "# Complete status?\n",
    "atp_tracking_data_dict['matchStatus']\n",
    "atp_tracking_data_dict['isMatchComplete']\n",
    "\n",
    "\n",
    "# -----------------------------\n",
    "# Player information\n",
    "# -----------------------------\n",
    "player1_info = atp_tracking_data_dict['playersData']['playerTeam']\n",
    "player2_info = atp_tracking_data_dict['playersData']['opponentTeam']\n",
    "\n",
    "player1 = player1_info[0]['name']\n",
    "player1_id = player1_info[0]['id']\n",
    "player1_country = player1_info[0]['country']\n",
    "player1_seed = player1_info[0]['seed']\n",
    "\n",
    "player2 = player2_info[0]['name']\n",
    "player2_id = player2_info[0]['id']\n",
    "player2_country = player2_info[0]['country']\n",
    "player2_seed = player2_info[0]['seed']\n",
    "\n",
    "# -------------------------------\n",
    "# - I have no idea what this is\n",
    "# -------------------------------\n",
    "point_id = atp_tracking_data_dict['pointId']\n",
    "\n",
    "court_name = atp_tracking_data_dict['courtName']\n",
    "\n",
    "court_id = atp_tracking_data_dict['courtId']\n",
    "\n",
    "num_sets_completed = atp_tracking_data_dict['setsCompleted']\n",
    "num_sets_completed"
   ]
  },
  {
   "cell_type": "code",
   "execution_count": null,
   "metadata": {},
   "outputs": [],
   "source": []
  }
 ],
 "metadata": {
  "kernelspec": {
   "display_name": "Python 3",
   "language": "python",
   "name": "python3"
  },
  "language_info": {
   "codemirror_mode": {
    "name": "ipython",
    "version": 3
   },
   "file_extension": ".py",
   "mimetype": "text/x-python",
   "name": "python",
   "nbconvert_exporter": "python",
   "pygments_lexer": "ipython3",
   "version": "3.8.5"
  }
 },
 "nbformat": 4,
 "nbformat_minor": 4
}
