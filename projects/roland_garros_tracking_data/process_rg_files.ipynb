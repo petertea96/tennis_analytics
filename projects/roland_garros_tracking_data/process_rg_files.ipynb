{
 "cells": [
  {
   "cell_type": "markdown",
   "metadata": {},
   "source": [
    "# Functions to extract information from json files"
   ]
  },
  {
   "cell_type": "markdown",
   "metadata": {},
   "source": [
    "To do list:\n",
    "----------\n",
    "\n",
    "- [x] Create Trajectory data frame (separate)\n",
    "\n",
    "- [x] Create flag for which points there exist accesible trajectory data\n",
    "\n",
    "- [ ] Add in `statsData` indicator columns for Dfs, Aces, points won, etc\n",
    "\n",
    "- [ ] Figure out what returner and server coordinates are (location at last shot????)"
   ]
  },
  {
   "cell_type": "code",
   "execution_count": 1,
   "metadata": {},
   "outputs": [],
   "source": [
    "import json\n",
    "import pandas as pd\n",
    "import os\n",
    "import numpy as np\n",
    "\n",
    "pd.set_option('display.max_columns', None)\n",
    "pd.set_option(\"max_rows\", None)"
   ]
  },
  {
   "cell_type": "code",
   "execution_count": 2,
   "metadata": {},
   "outputs": [],
   "source": [
    "def get_match_level_info(tracking_data_json, year):\n",
    "    '''\n",
    "    Args:\n",
    "    -----\n",
    "    year: match year\n",
    "    tracking_data_json [json]: Json file\n",
    "    \n",
    "    Returns:\n",
    "    --------\n",
    "    dict of row to append into a dataframe\n",
    "    '''\n",
    "    \n",
    "    # Get to the crux of the information\n",
    "    tracking_data_dict = tracking_data_json['courtVisionData'][0]\n",
    "    \n",
    "    #atp_tracking_data_dict['isMatchComplete']\n",
    "\n",
    "\n",
    "    # -----------------------------\n",
    "    # Player information\n",
    "    # -----------------------------\n",
    "    player1_info = tracking_data_dict['playersData']['playerTeam']\n",
    "    player2_info = tracking_data_dict['playersData']['opponentTeam']\n",
    "\n",
    "    \n",
    "    match_dict = dict(\n",
    "        year = year,\n",
    "        player1 = player1_info[0]['name'],\n",
    "        player2 = player2_info[0]['name'],\n",
    "        player1_id = player1_info[0]['id'],\n",
    "        player1_country = player1_info[0]['country'],\n",
    "        player1_seed = player1_info[0]['seed'],\n",
    "        player2_id = player2_info[0]['id'],\n",
    "        player2_country = player2_info[0]['country'],\n",
    "        player2_seed = player2_info[0]['seed'],\n",
    "        \n",
    "    # -------------------------------\n",
    "    # - I have no idea what this is\n",
    "    # -------------------------------\n",
    "        point_id = tracking_data_dict['pointId'],\n",
    "        court_name = tracking_data_dict['courtName'],\n",
    "        court_id = tracking_data_dict['courtId'],\n",
    "        num_sets_completed = tracking_data_dict['setsCompleted'],\n",
    "        \n",
    "        # Mens/Womens Singles\n",
    "        match_type = tracking_data_dict['eventType'],\n",
    "\n",
    "        # Complete status?\n",
    "        match_status = tracking_data_dict['matchStatus']\n",
    "        \n",
    "        \n",
    "    )\n",
    "    \n",
    "    return match_dict\n",
    "    \n",
    "    \n",
    "    "
   ]
  },
  {
   "cell_type": "code",
   "execution_count": 3,
   "metadata": {},
   "outputs": [],
   "source": [
    "### Loop through all json files in directory\n",
    "data_list = []\n",
    "\n",
    "for filename in os.listdir('./json_data/'):\n",
    "    if filename.endswith(\".json\"): \n",
    "         with open('./json_data/' + filename) as file_name:\n",
    "                tracking_data_json = json.load(file_name)\n",
    "                file_year = [int(s) for s in filename.split('_') if s.isdigit()]\n",
    "                data_list.append(get_match_level_info(tracking_data_json, year = file_year[0]))\n",
    "    else:\n",
    "        continue\n",
    "\n",
    "        \n",
    "available_matches = pd.DataFrame(data_list)\n",
    "available_matches.sort_values(by=['year'], inplace = True)\n",
    "available_matches.to_csv('matches_in_repo.csv')\n",
    "\n",
    "#available_matches[available_matches['match_type'] == \"Men's Singles\"]"
   ]
  },
  {
   "cell_type": "code",
   "execution_count": 24,
   "metadata": {},
   "outputs": [],
   "source": [
    "#available_matches[available_matches['match_type'] == \"Women's Singles\"]"
   ]
  },
  {
   "cell_type": "markdown",
   "metadata": {},
   "source": [
    "### Notes:\n",
    "-----\n",
    "\n",
    "* I suspect `point_id` is the last point played ?\n",
    "    * Ex: `2_7_6` is | Set 2 | Game 7 | 6 ? |\n",
    "    * Ex: `3_9_9` is | Set 3 | Game ? Nadal vs Djokovic was game 12... | ... |"
   ]
  },
  {
   "cell_type": "code",
   "execution_count": null,
   "metadata": {},
   "outputs": [],
   "source": []
  },
  {
   "cell_type": "markdown",
   "metadata": {},
   "source": [
    "### Rough Notes"
   ]
  },
  {
   "cell_type": "code",
   "execution_count": 4,
   "metadata": {},
   "outputs": [],
   "source": [
    "# Open one tracking json file (for debugging***)\n",
    "with open('json_data/year_2020_SM001_tracking_data.json') as filename:\n",
    "  atp_tracking_data_json = json.load(filename)"
   ]
  },
  {
   "cell_type": "code",
   "execution_count": 5,
   "metadata": {},
   "outputs": [
    {
     "data": {
      "text/plain": [
       "dict_keys(['pointsData', 'eventType', 'matchStatus', 'playersData', 'pointId', 'isMatchComplete', 'statsData', 'courtName', 'courtId', 'setsCompleted'])"
      ]
     },
     "execution_count": 5,
     "metadata": {},
     "output_type": "execute_result"
    }
   ],
   "source": [
    "atp_tracking_data_dict = atp_tracking_data_json['courtVisionData'][0]\n",
    "atp_tracking_data_dict.keys()"
   ]
  },
  {
   "cell_type": "markdown",
   "metadata": {},
   "source": [
    "### Play-by-Play processing "
   ]
  },
  {
   "cell_type": "code",
   "execution_count": 6,
   "metadata": {},
   "outputs": [],
   "source": [
    "def get_point_level_info(one_point_sequence):\n",
    "    '''\n",
    "    Args:\n",
    "    -----\n",
    "    one_point_sequence [dict]: Dictionary\n",
    "    \n",
    "    Returns:\n",
    "    --------\n",
    "    dict of row to append into a dataframe\n",
    "    \n",
    "    Notes:\n",
    "    ------\n",
    "    Don't convert them to integers...yet\n",
    "    '''\n",
    "    \n",
    "    serve_speed_kph = one_point_sequence['ballSpeedFrench']\n",
    "    if ( (serve_speed_kph == '0') | ( serve_speed_kph == 'NA' ) ):\n",
    "        serve_speed_kph = one_point_sequence['returnSpeedFrench']\n",
    "        \n",
    "    serve_speed_v2 = one_point_sequence['ballSpeed']\n",
    "    \n",
    "    if ( (serve_speed_v2 == '0') | ( serve_speed_v2 == 'NA' ) ):\n",
    "        serve_speed_v2 = one_point_sequence['returnSpeed']\n",
    "        \n",
    "    # Flag for whether we have tracking data on this point sequence\n",
    "    \n",
    "    is_track_avail = True\n",
    "    if len(one_point_sequence['trajectoryData']) == 0 :\n",
    "        is_track_avail = False\n",
    "    \n",
    "    \n",
    "    point_dict = dict(\n",
    "        # Match situation information\n",
    "        #point_ID_v2 = one_point_sequence['id'],\n",
    "        point_ID = one_point_sequence['pointId'],\n",
    "        set_num = one_point_sequence['set'],\n",
    "        #set_num_v2 = one_point_sequence['setNumber'],\n",
    "        game_num = one_point_sequence['game'], \n",
    "        point_num = one_point_sequence['point'],\n",
    "        #point_number_v2 = one_point_sequence['pointNumber'],\n",
    "        serve_num = one_point_sequence['serve'],\n",
    "        \n",
    "        # players involved\n",
    "        server_id = one_point_sequence['serverId'],\n",
    "        returner_id = one_point_sequence['receiverId'],\n",
    "        point_winner_id = one_point_sequence['scorerId'],\n",
    "        court_side = one_point_sequence['court'],\n",
    "        \n",
    "        # Serve Stats\n",
    "        serve_speed_kph = serve_speed_kph,\n",
    "        serve_speed_v2 = serve_speed_v2,\n",
    "        serve_type = one_point_sequence['serveType'],\n",
    "        fault_distance_missed_ft = one_point_sequence['distanceOutsideCourt'],\n",
    "        fault_distance_missed_m = one_point_sequence['distanceOutsideCourtFrench'],\n",
    "        #return_placement = one_point_sequence['returnPlacement'],\n",
    "        \n",
    "        \n",
    "        # How point ended\n",
    "        rally_length = one_point_sequence['rallyLength'],\n",
    "        point_end_type = one_point_sequence['pointEndType'],\n",
    "        error_type = one_point_sequence['errorType'],\n",
    "        trapped_by_net = one_point_sequence['trappedByNet'],\n",
    "\n",
    "        strokeType = one_point_sequence['strokeType'],\n",
    "        hand = one_point_sequence['hand'],\n",
    "        \n",
    "        last_stroke_net_height_ft = one_point_sequence['heightAboveNet'],\n",
    "        last_stroke_net_height_m = one_point_sequence['heightAboveNetFrench'],\n",
    "        # 0 is ground height...height does not start on top of the net!!!\n",
    "        \n",
    "        winner_placement = one_point_sequence['winnerPlacement'],\n",
    "        unforcedErrorPlacement = one_point_sequence['unforcedErrorPlacement'],\n",
    "        is_break_point = one_point_sequence['breakPoint'],\n",
    "        is_break_point_converted = one_point_sequence['breakPointConverted'],\n",
    "        runAroundForeHand = one_point_sequence['runAroundForeHand'],\n",
    "\n",
    "        \n",
    "        # Tracking info\n",
    "        is_track_avail = is_track_avail,\n",
    "        \n",
    "        serveBounceCordinate_x = one_point_sequence['serveBounceCordinate']['x'],\n",
    "        serveBounceCordinate_y = one_point_sequence['serveBounceCordinate']['y'],\n",
    "        serveBounceCordinate_z = one_point_sequence['serveBounceCordinate']['z'],\n",
    "        \n",
    "        # (initial) Ball coordinate on last shot \n",
    "        ballHitCordinate_x = one_point_sequence['ballHitCordinate']['x'],\n",
    "        ballHitCordinate_y = one_point_sequence['ballHitCordinate']['y'],\n",
    "        ballHitCordinate_z = one_point_sequence['ballHitCordinate']['z'],\n",
    "        \n",
    "        # Ball coordinate on its last bounce of rally\n",
    "        ballBounceCordinate_x = one_point_sequence['ballBounceCordinate']['x'],\n",
    "        ballBounceCordinate_y = one_point_sequence['ballBounceCordinate']['y'],\n",
    "        ballBounceCordinate_z = one_point_sequence['ballBounceCordinate']['z'],\n",
    "        \n",
    "        # Server and Returner coordinates\n",
    "        server_coord_x = one_point_sequence['serverCordinate']['x'],\n",
    "        server_coord_y = one_point_sequence['serverCordinate']['y'],\n",
    "        server_coord_z = one_point_sequence['serverCordinate']['z'],\n",
    "        returner_coord_x = one_point_sequence['receiverCordinate']['x'],\n",
    "        returner_coord_y = one_point_sequence['receiverCordinate']['y'],\n",
    "        returner_coord_z = one_point_sequence['receiverCordinate']['z'],\n",
    "        \n",
    "        # unknowns\n",
    "        spin_rpm = one_point_sequence['spin'],\n",
    "        cruciality = one_point_sequence['cruciality'],\n",
    "        returnPlacement =  one_point_sequence['returnPlacement']\n",
    "    )\n",
    "    \n",
    "    return point_dict"
   ]
  },
  {
   "cell_type": "code",
   "execution_count": 7,
   "metadata": {},
   "outputs": [
    {
     "data": {
      "text/plain": [
       "{'point_ID': '1_1_6_1',\n",
       " 'set_num': '1',\n",
       " 'game_num': '1',\n",
       " 'point_num': '6',\n",
       " 'serve_num': '1',\n",
       " 'server_id': '9801',\n",
       " 'returner_id': '7792',\n",
       " 'point_winner_id': '7792',\n",
       " 'court_side': 'AdCourt',\n",
       " 'serve_speed_kph': '190 KPH',\n",
       " 'serve_speed_v2': '190 KPH',\n",
       " 'serve_type': 'Flat',\n",
       " 'fault_distance_missed_ft': 'NA',\n",
       " 'fault_distance_missed_m': 'NA',\n",
       " 'rally_length': 10,\n",
       " 'point_end_type': 'Winner',\n",
       " 'error_type': 'NA',\n",
       " 'trapped_by_net': False,\n",
       " 'strokeType': 'Ground',\n",
       " 'hand': 'BackHand',\n",
       " 'last_stroke_net_height_ft': '5.01 Feet',\n",
       " 'last_stroke_net_height_m': '1.53 Metre',\n",
       " 'winner_placement': 'Cross Court',\n",
       " 'unforcedErrorPlacement': 'NA',\n",
       " 'is_break_point': False,\n",
       " 'is_break_point_converted': False,\n",
       " 'runAroundForeHand': False,\n",
       " 'is_track_avail': True,\n",
       " 'serveBounceCordinate_x': 5.643,\n",
       " 'serveBounceCordinate_y': -0.478,\n",
       " 'serveBounceCordinate_z': 0.039,\n",
       " 'ballHitCordinate_x': 11.172,\n",
       " 'ballHitCordinate_y': 2.161,\n",
       " 'ballHitCordinate_z': 1.04,\n",
       " 'ballBounceCordinate_x': -9.23,\n",
       " 'ballBounceCordinate_y': -4.023,\n",
       " 'ballBounceCordinate_z': 0.033,\n",
       " 'server_coord_x': -16.408,\n",
       " 'server_coord_y': 2.816,\n",
       " 'server_coord_z': 0.0,\n",
       " 'returner_coord_x': 11.882,\n",
       " 'returner_coord_y': 1.555,\n",
       " 'returner_coord_z': 0.0,\n",
       " 'spin_rpm': '3162.74',\n",
       " 'cruciality': 'false',\n",
       " 'returnPlacement': 3.5097500000000004}"
      ]
     },
     "execution_count": 7,
     "metadata": {},
     "output_type": "execute_result"
    }
   ],
   "source": [
    "# Open one tracking json file\n",
    "with open('json_data/year_2020_SM001_tracking_data.json') as filename:\n",
    "  atp_tracking_data_json = json.load(filename)\n",
    "\n",
    "atp_tracking_data_dict = atp_tracking_data_json['courtVisionData'][0]\n",
    "point_id = '1_1_6_1'\n",
    "one_point_sequence = atp_tracking_data_dict['pointsData'][point_id]\n",
    "\n",
    "\n",
    "get_point_level_info(one_point_sequence)"
   ]
  },
  {
   "cell_type": "code",
   "execution_count": 8,
   "metadata": {},
   "outputs": [],
   "source": [
    "def get_match_point_level_info(raw_json_file):\n",
    "    '''\n",
    "    Args:\n",
    "    -----\n",
    "    one_point_sequence [dict]: Dictionary\n",
    "    \n",
    "    Returns:\n",
    "    --------\n",
    "    pandas DataFrame\n",
    "    '''\n",
    "    all_tracking_data_dict = raw_json_file['courtVisionData'][0]['pointsData']\n",
    "    \n",
    "    data_list = []\n",
    "    for point_id_key in sorted(all_tracking_data_dict.keys()):\n",
    "        #print(point_id_key)\n",
    "        data_list.append( get_point_level_info( all_tracking_data_dict[point_id_key] ) )\n",
    "    \n",
    "    match_point_df = pd.DataFrame(data_list)\n",
    "    \n",
    "    # Sort Dataframe by Set Number, Game number, Point Number, Serve Number\n",
    "    match_point_df[['set_num', 'game_num', 'point_num', 'serve_num']] = match_point_df[['set_num', 'game_num', 'point_num', 'serve_num']].astype(int)\n",
    "\n",
    "\n",
    "    match_point_df.sort_values(by = ['set_num', 'game_num', 'point_num', 'serve_num'], inplace = True)\n",
    "    \n",
    "    return match_point_df\n",
    "\n"
   ]
  },
  {
   "cell_type": "code",
   "execution_count": null,
   "metadata": {},
   "outputs": [],
   "source": [
    "\n"
   ]
  },
  {
   "cell_type": "code",
   "execution_count": 10,
   "metadata": {},
   "outputs": [],
   "source": [
    "test_match = get_match_point_level_info(atp_tracking_data_json)\n",
    "test_match.to_csv('point_sequence_djokovic_nadal_2020_rolandgarros_pbp.csv', index = False)\n",
    "#test_match[['point_ID','server_coord_x', 'server_coord_y', 'server_coord_z', 'returner_coord_x','returner_coord_y', 'returner_coord_z']]\n",
    "\n",
    "#test_match[['point_end_type', 'error_type', 'fault_distance_missed_m','last_stroke_net_height_m', 'serveBounceCordinate_x', 'serveBounceCordinate_y', 'serveBounceCordinate_z']]\n"
   ]
  },
  {
   "cell_type": "code",
   "execution_count": 32,
   "metadata": {},
   "outputs": [],
   "source": [
    "#test_match[['point_ID', 'point_end_type', 'strokeType', 'hand']]\n",
    "#test_match[['is_track_avail','point_ID', 'point_end_type', 'error_type', 'serve_num', 'distance_missed_fault_ft', 'distance_missed_fault_m', 'last_stroke_net_clearance_m']]\n"
   ]
  },
  {
   "cell_type": "code",
   "execution_count": 34,
   "metadata": {},
   "outputs": [
    {
     "data": {
      "text/plain": [
       "220"
      ]
     },
     "execution_count": 34,
     "metadata": {},
     "output_type": "execute_result"
    }
   ],
   "source": []
  },
  {
   "cell_type": "markdown",
   "metadata": {},
   "source": [
    "### Save Ball Trajectory Data"
   ]
  },
  {
   "cell_type": "code",
   "execution_count": 18,
   "metadata": {},
   "outputs": [],
   "source": [
    "def save_trajectory_data_one_rally(one_point_sequence):\n",
    "    '''\n",
    "    Args:\n",
    "    -----\n",
    "    one_point_sequence [dict]: Dictionary\n",
    "    \n",
    "    Returns:\n",
    "    --------\n",
    "    pandas DataFrame (for one point sequence)\n",
    "    \n",
    "    Notes:\n",
    "    ------\n",
    "    Don't convert them to integers...yet\n",
    "    '''\n",
    "    \n",
    "    ball_trajectory_df = pd.DataFrame(one_point_sequence['trajectoryData'])\n",
    "    \n",
    "    if ball_trajectory_df.empty:\n",
    "        return ball_trajectory_df\n",
    "    \n",
    "    #######################################################################\n",
    "    #                     Match situation information                     #\n",
    "    #######################################################################\n",
    "    # --> Get indices where ball is hit \n",
    "    hit_indices = ball_trajectory_df.index[ball_trajectory_df['position'] == 'hit'].tolist()\n",
    "    hit_indices.append(ball_trajectory_df.shape[0])\n",
    "\n",
    "    # Get lengths of rally index (expect 4 or 5)\n",
    "    # In the usual case, we expect this sequence: Hit --> Peak --> Net --> Bounce\n",
    "    # But what if it's a half volley? (Hit --> Peak --> Net)\n",
    "    # But what if it's a hit on the rise?  Hit --> Peak --> Net --> Bounce --> Peak\n",
    "    # *** Ball trajectory also includes erroneous balls (mishits)...so we sometimes get strike_index = 1 + rally_index\n",
    "    hit_indices_diff_len = [x - hit_indices[i - 1] for i, x in enumerate(hit_indices)][1:]\n",
    "\n",
    "    rally_length = len(hit_indices_diff_len)\n",
    "\n",
    "    rally_index_list = []\n",
    "    for rally_ind in range(1, rally_length + 1):\n",
    "        rally_index_list.append(np.repeat( rally_ind, repeats=hit_indices_diff_len[rally_ind-1]))\n",
    "    \n",
    "    # Combine a list of numpy arrays into a single array\n",
    "    ball_trajectory_df['strike_index'] = np.concatenate( rally_index_list, axis=0 )\n",
    "    \n",
    "    ##################################################\n",
    "    #          Match situation information           #\n",
    "    ##################################################\n",
    "    ball_trajectory_df['point_ID'] = one_point_sequence['pointId']\n",
    "    ball_trajectory_df['set_num'] = one_point_sequence['set']\n",
    "    ball_trajectory_df['game_num'] = one_point_sequence['game'] \n",
    "    ball_trajectory_df['point_num'] = one_point_sequence['point']\n",
    "    ball_trajectory_df['serve_num'] = one_point_sequence['serve']\n",
    "    \n",
    "    return ball_trajectory_df\n",
    "    \n",
    "    \n",
    "    "
   ]
  },
  {
   "cell_type": "code",
   "execution_count": 17,
   "metadata": {},
   "outputs": [],
   "source": [
    "#save_trajectory_data_one_rally(one_point_sequence)"
   ]
  },
  {
   "cell_type": "code",
   "execution_count": 21,
   "metadata": {},
   "outputs": [],
   "source": [
    "def get_match_point_ball_trajectory_data(raw_json_file):\n",
    "    '''\n",
    "    Args:\n",
    "    -----\n",
    "    one_point_sequence [dict]: Dictionary\n",
    "    \n",
    "    Returns:\n",
    "    --------\n",
    "    pandas DataFrame\n",
    "    '''\n",
    "    all_tracking_data_dict = raw_json_file['courtVisionData'][0]['pointsData']\n",
    "    \n",
    "    match_ball_trajectory_list = []\n",
    "    \n",
    "    for point_id_key in sorted(all_tracking_data_dict.keys()):\n",
    "        #print(point_id_key)\n",
    "        ball_trajectory_df = save_trajectory_data_one_rally( all_tracking_data_dict[point_id_key] )\n",
    "        \n",
    "        if ball_trajectory_df.empty:\n",
    "            continue\n",
    "        else:\n",
    "            match_ball_trajectory_list.append( ball_trajectory_df )\n",
    "\n",
    "            \n",
    "    match_ball_trajectory_df = pd.concat(match_ball_trajectory_list)\n",
    "    \n",
    "    \n",
    "    ### Reorder columns\n",
    "    match_ball_trajectory_df = match_ball_trajectory_df[['point_ID', 'set_num', 'game_num', 'point_num', 'serve_num', 'strike_index', 'position', 'x', 'y', 'z' ]]\n",
    "    \n",
    "    return match_ball_trajectory_df#.reset_index(inplace = True)\n"
   ]
  },
  {
   "cell_type": "code",
   "execution_count": 23,
   "metadata": {},
   "outputs": [],
   "source": [
    "test_trajectory = get_match_point_ball_trajectory_data(atp_tracking_data_json)\n",
    "\n",
    "test_trajectory.reset_index(drop = True)\n",
    "test_trajectory.to_csv('ball_trajectory_djokovic_nadal_2020_rolandgarros_pbp.csv', index = False)"
   ]
  },
  {
   "cell_type": "code",
   "execution_count": null,
   "metadata": {},
   "outputs": [],
   "source": [
    "\n",
    "\n"
   ]
  },
  {
   "cell_type": "code",
   "execution_count": null,
   "metadata": {},
   "outputs": [],
   "source": []
  },
  {
   "cell_type": "markdown",
   "metadata": {},
   "source": [
    "### Check out for each match, how many rally point data do we have?"
   ]
  },
  {
   "cell_type": "code",
   "execution_count": 47,
   "metadata": {},
   "outputs": [],
   "source": [
    "data_list = []\n",
    "\n",
    "for filename in os.listdir('./json_data/'):\n",
    "    if filename.endswith(\".json\"): \n",
    "         with open('./json_data/' + filename) as file_name:\n",
    "                #print(filename)\n",
    "                atp_tracking_data_json = json.load(file_name)\n",
    "                test_match = get_match_point_level_info(atp_tracking_data_json)\n",
    "                num_points_avail = test_match['is_track_avail'].sum()\n",
    "                num_points = test_match.shape[0]\n",
    "                \n",
    "                summary_dict = dict(\n",
    "                    num_points_avail = num_points_avail,\n",
    "                    num_points = num_points,\n",
    "                    filename=filename\n",
    "                )\n",
    "                data_list.append(summary_dict)\n",
    "                \n",
    "                #print('done!')\n",
    "                \n",
    "    else:\n",
    "        continue\n",
    "\n",
    "\n"
   ]
  },
  {
   "cell_type": "code",
   "execution_count": 49,
   "metadata": {},
   "outputs": [
    {
     "data": {
      "text/plain": [
       "(152, 3)"
      ]
     },
     "execution_count": 49,
     "metadata": {},
     "output_type": "execute_result"
    }
   ],
   "source": [
    "# Seems like we have a decent amount of available points!\n",
    "pd.DataFrame(data_list).shape"
   ]
  },
  {
   "cell_type": "code",
   "execution_count": null,
   "metadata": {},
   "outputs": [],
   "source": []
  }
 ],
 "metadata": {
  "kernelspec": {
   "display_name": "Python 3",
   "language": "python",
   "name": "python3"
  },
  "language_info": {
   "codemirror_mode": {
    "name": "ipython",
    "version": 3
   },
   "file_extension": ".py",
   "mimetype": "text/x-python",
   "name": "python",
   "nbconvert_exporter": "python",
   "pygments_lexer": "ipython3",
   "version": "3.8.5"
  }
 },
 "nbformat": 4,
 "nbformat_minor": 4
}
