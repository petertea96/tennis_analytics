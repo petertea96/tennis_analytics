{
 "cells": [
  {
   "cell_type": "markdown",
   "metadata": {},
   "source": [
    "# Cleaning Roland Garros tracking data"
   ]
  },
  {
   "cell_type": "markdown",
   "metadata": {},
   "source": [
    "This is an exploratory script, meant to see what data is available in each json file."
   ]
  },
  {
   "cell_type": "code",
   "execution_count": null,
   "metadata": {},
   "outputs": [],
   "source": []
  },
  {
   "cell_type": "code",
   "execution_count": 6,
   "metadata": {},
   "outputs": [],
   "source": [
    "import json\n",
    "import pandas as pd"
   ]
  },
  {
   "cell_type": "code",
   "execution_count": 7,
   "metadata": {},
   "outputs": [],
   "source": [
    "# Open one tracking json file\n",
    "with open('json_data/year_2020_SM001_tracking_data.json') as filename:\n",
    "  atp_tracking_data_json = json.load(filename)"
   ]
  },
  {
   "cell_type": "code",
   "execution_count": 3,
   "metadata": {},
   "outputs": [
    {
     "data": {
      "text/plain": [
       "dict_keys(['pointsData', 'eventType', 'matchStatus', 'playersData', 'pointId', 'isMatchComplete', 'statsData', 'courtName', 'courtId', 'setsCompleted'])"
      ]
     },
     "execution_count": 3,
     "metadata": {},
     "output_type": "execute_result"
    }
   ],
   "source": [
    "atp_tracking_data_dict = atp_tracking_data_json['courtVisionData'][0]\n",
    "atp_tracking_data_dict.keys()"
   ]
  },
  {
   "cell_type": "code",
   "execution_count": null,
   "metadata": {},
   "outputs": [],
   "source": []
  },
  {
   "cell_type": "markdown",
   "metadata": {},
   "source": [
    "### Play - by - Play tracking data"
   ]
  },
  {
   "cell_type": "code",
   "execution_count": 40,
   "metadata": {},
   "outputs": [],
   "source": [
    "# -- Sort point ids in order\n",
    "#sorted(atp_tracking_data_dict['pointsData'].keys())"
   ]
  },
  {
   "cell_type": "code",
   "execution_count": 16,
   "metadata": {},
   "outputs": [],
   "source": [
    "# Play - by play tracking data\n",
    "point_id = '1_1_6_1'\n",
    "one_point_sequence = atp_tracking_data_dict['pointsData'][point_id]\n"
   ]
  },
  {
   "cell_type": "code",
   "execution_count": 9,
   "metadata": {},
   "outputs": [
    {
     "data": {
      "text/plain": [
       "dict_keys(['set', 'serverId', 'scorerId', 'heightAboveNet', 'trappedByNet', 'ballHitCordinate', 'ballPeakCordinate', 'ballBounceCordinate', 'id', 'court', 'pointNumber', 'point', 'receiverId', 'heightAboveNetFrench', 'distanceOutsideCourt', 'runAroundForeHand', 'trajectoryData', 'distanceOutsideCourtFrench', 'rallyLength', 'ballSpeedFrench', 'serveType', 'errorType', 'serve', 'pointId', 'hand', 'game', 'pointEndType', 'cruciality', 'returnSpeed', 'serverCordinate', 'spin', 'winnerPlacement', 'setNumber', 'returnPlacement', 'receiverCordinate', 'ballSpeed', 'ballNetCordinate', 'serveBounceCordinate', 'breakPointConverted', 'ballLastCordinate', 'unforcedErrorPlacement', 'strokeType', 'breakPoint', 'returnSpeedFrench'])"
      ]
     },
     "execution_count": 9,
     "metadata": {},
     "output_type": "execute_result"
    }
   ],
   "source": [
    "one_point_sequence.keys()"
   ]
  },
  {
   "cell_type": "code",
   "execution_count": 17,
   "metadata": {},
   "outputs": [
    {
     "data": {
      "text/plain": [
       "{'set': '1',\n",
       " 'serverId': '9801',\n",
       " 'scorerId': '7792',\n",
       " 'heightAboveNet': '5.01 Feet',\n",
       " 'trappedByNet': False,\n",
       " 'ballHitCordinate': {'y': 2.161,\n",
       "  'x': 11.172,\n",
       "  'z': 1.04,\n",
       "  'erroneousBall': False},\n",
       " 'ballPeakCordinate': {'y': -0.28,\n",
       "  'x': 2.812,\n",
       "  'z': 1.603,\n",
       "  'erroneousBall': False},\n",
       " 'ballBounceCordinate': {'y': -4.023,\n",
       "  'x': -9.23,\n",
       "  'z': 0.033,\n",
       "  'erroneousBall': False},\n",
       " 'id': 2,\n",
       " 'court': 'AdCourt',\n",
       " 'pointNumber': 0,\n",
       " 'point': '6',\n",
       " 'receiverId': '7792',\n",
       " 'heightAboveNetFrench': '1.53 Metre',\n",
       " 'distanceOutsideCourt': 'NA',\n",
       " 'runAroundForeHand': False,\n",
       " 'trajectoryData': [{'y': 0.737, 'x': -11.209, 'z': 2.832, 'position': 'hit'},\n",
       "  {'y': 0.737, 'x': -11.209, 'z': 2.832, 'position': 'peak'},\n",
       "  {'y': -0.129, 'x': 0.0, 'z': 1.127, 'position': 'net'},\n",
       "  {'y': -0.478, 'x': 5.643, 'z': 0.039, 'position': 'bounce'},\n",
       "  {'y': -1.155, 'x': 16.766, 'z': 1.129, 'position': 'hit'},\n",
       "  {'y': -0.37, 'x': 4.571, 'z': 2.393, 'position': 'peak'},\n",
       "  {'y': -0.077, 'x': 0.0, 'z': 2.168, 'position': 'net'},\n",
       "  {'y': 0.534, 'x': -9.336, 'z': 0.04, 'position': 'bounce'},\n",
       "  {'y': 0.734, 'x': -13.251, 'z': 1.331, 'position': 'hit'},\n",
       "  {'y': -0.49, 'x': -5.037, 'z': 1.733, 'position': 'peak'},\n",
       "  {'y': -1.316, 'x': 0.0, 'z': 1.55, 'position': 'net'},\n",
       "  {'y': -3.035, 'x': 9.347, 'z': 0.028, 'position': 'bounce'},\n",
       "  {'y': -3.815, 'x': 14.222, 'z': 0.867, 'position': 'peak'},\n",
       "  {'y': -3.88, 'x': 14.592, 'z': 0.862, 'position': 'hit'},\n",
       "  {'y': -1.109, 'x': 3.424, 'z': 2.404, 'position': 'peak'},\n",
       "  {'y': -0.169, 'x': 0.0, 'z': 2.219, 'position': 'net'},\n",
       "  {'y': 2.204, 'x': -8.055, 'z': 0.039, 'position': 'bounce'},\n",
       "  {'y': 3.474, 'x': -12.668, 'z': 1.417, 'position': 'hit'},\n",
       "  {'y': 2.392, 'x': -4.681, 'z': 2.003, 'position': 'peak'},\n",
       "  {'y': 1.857, 'x': 0.0, 'z': 1.761, 'position': 'net'},\n",
       "  {'y': 1.153, 'x': 7.886, 'z': 0.042, 'position': 'bounce'},\n",
       "  {'y': 0.51, 'x': 12.441, 'z': 1.25, 'position': 'peak'},\n",
       "  {'y': 0.343, 'x': 13.675, 'z': 1.152, 'position': 'hit'},\n",
       "  {'y': 1.268, 'x': 1.281, 'z': 2.917, 'position': 'peak'},\n",
       "  {'y': 1.36, 'x': 0.0, 'z': 2.894, 'position': 'net'},\n",
       "  {'y': 2.111, 'x': -11.796, 'z': 0.035, 'position': 'bounce'},\n",
       "  {'y': 2.332, 'x': -14.473, 'z': 1.252, 'position': 'hit'},\n",
       "  {'y': 1.222, 'x': -3.183, 'z': 2.502, 'position': 'peak'},\n",
       "  {'y': 0.948, 'x': 0.0, 'z': 2.378, 'position': 'net'},\n",
       "  {'y': 0.23, 'x': 9.995, 'z': 0.034, 'position': 'bounce'},\n",
       "  {'y': -0.194, 'x': 13.563, 'z': 1.33, 'position': 'hit'},\n",
       "  {'y': 1.39, 'x': 5.151, 'z': 1.975, 'position': 'peak'},\n",
       "  {'y': 2.295, 'x': 0.0, 'z': 1.678, 'position': 'net'},\n",
       "  {'y': 3.495, 'x': -7.348, 'z': 0.034, 'position': 'bounce'},\n",
       "  {'y': 4.604, 'x': -13.227, 'z': 1.32, 'position': 'peak'},\n",
       "  {'y': 5.209, 'x': -16.529, 'z': 0.84, 'position': 'hit'},\n",
       "  {'y': 3.974, 'x': -5.353, 'z': 1.859, 'position': 'peak'},\n",
       "  {'y': 3.403, 'x': 0.0, 'z': 1.556, 'position': 'net'},\n",
       "  {'y': 2.699, 'x': 7.121, 'z': 0.042, 'position': 'bounce'},\n",
       "  {'y': 2.161, 'x': 11.172, 'z': 1.04, 'position': 'hit'},\n",
       "  {'y': -0.28, 'x': 2.812, 'z': 1.603, 'position': 'peak'},\n",
       "  {'y': -1.123, 'x': 0.0, 'z': 1.527, 'position': 'net'},\n",
       "  {'y': -4.023, 'x': -9.23, 'z': 0.033, 'position': 'bounce'},\n",
       "  {'y': -4.044, 'x': -9.294, 'z': 0.033, 'position': 'last'}],\n",
       " 'distanceOutsideCourtFrench': 'NA',\n",
       " 'rallyLength': 10,\n",
       " 'ballSpeedFrench': '190 KPH',\n",
       " 'serveType': 'Flat',\n",
       " 'errorType': 'NA',\n",
       " 'serve': '1',\n",
       " 'pointId': '1_1_6_1',\n",
       " 'hand': 'BackHand',\n",
       " 'game': '1',\n",
       " 'pointEndType': 'Winner',\n",
       " 'cruciality': 'false',\n",
       " 'returnSpeed': '190 KPH',\n",
       " 'serverCordinate': {'y': 2.816,\n",
       "  'x': -16.408,\n",
       "  'z': 0.0,\n",
       "  'erroneousBall': False},\n",
       " 'spin': '3162.74',\n",
       " 'winnerPlacement': 'Cross Court',\n",
       " 'setNumber': '1',\n",
       " 'returnPlacement': 3.5097500000000004,\n",
       " 'receiverCordinate': {'y': 1.555,\n",
       "  'x': 11.882,\n",
       "  'z': 0.0,\n",
       "  'erroneousBall': False},\n",
       " 'ballSpeed': '190 KPH',\n",
       " 'ballNetCordinate': {'y': -1.123,\n",
       "  'x': 0.0,\n",
       "  'z': 1.527,\n",
       "  'erroneousBall': False},\n",
       " 'serveBounceCordinate': {'y': -0.478,\n",
       "  'x': 5.643,\n",
       "  'z': 0.039,\n",
       "  'erroneousBall': False},\n",
       " 'breakPointConverted': False,\n",
       " 'ballLastCordinate': {'y': -4.044,\n",
       "  'x': -9.294,\n",
       "  'z': 0.033,\n",
       "  'erroneousBall': False},\n",
       " 'unforcedErrorPlacement': 'NA',\n",
       " 'strokeType': 'Ground',\n",
       " 'breakPoint': False,\n",
       " 'returnSpeedFrench': '190 KPH'}"
      ]
     },
     "execution_count": 17,
     "metadata": {},
     "output_type": "execute_result"
    }
   ],
   "source": [
    "one_point_sequence"
   ]
  },
  {
   "cell_type": "code",
   "execution_count": 85,
   "metadata": {},
   "outputs": [],
   "source": [
    "set_num = int(one_point_sequence['set'])\n",
    "set_num_v2 = int(one_point_sequence['setNumber'])\n",
    "game_num = int(one_point_sequence['game'])\n",
    "server_id = int(one_point_sequence['serverId'])\n",
    "returner_id = int(one_point_sequence['receiverId'])\n",
    "point_winner_id = int(one_point_sequence['scorerId'])\n",
    "court_side = one_point_sequence['court']\n",
    "rally_length = one_point_sequence['rallyLength']\n",
    "\n",
    "point_end_type = one_point_sequence['pointEndType']\n",
    "error_type = one_point_sequence['errorType']\n",
    "winner_placement = one_point_sequence['winnerPlacement']\n",
    "\n",
    "# Serve Stats\n",
    "serve_number = one_point_sequence['serve']\n",
    "serve_speed_kph = one_point_sequence['ballSpeedFrench']\n",
    "serve_speed_v2 = one_point_sequence['ballSpeed']\n",
    "serve_type = one_point_sequence['serveType']\n",
    "\n",
    "# Guesses\n",
    "net_clearance_ft = one_point_sequence['heightAboveNet']\n",
    "net_clearance_ft_m = one_point_sequence['heightAboveNetFrench']\n",
    "point_id = one_point_sequence['pointId']\n",
    "\n",
    "# Unknowns\n",
    "trapped_by_net = one_point_sequence['trappedByNet']\n",
    "ID = one_point_sequence['id']\n",
    "point_number = one_point_sequence['point'] # ***\n",
    "point_number_2 = one_point_sequence['pointNumber']\n",
    "distanceOutsideCourt = one_point_sequence['distanceOutsideCourt']\n",
    "distanceOutsideCourt_fr = one_point_sequence['distanceOutsideCourtFrench']\n",
    "runAroundForeHand = one_point_sequence['runAroundForeHand']\n",
    "\n",
    "hand = one_point_sequence['hand']\n",
    "cruciality = one_point_sequence['cruciality']\n",
    "return_speed = one_point_sequence['returnSpeed']\n",
    "spin = one_point_sequence['spin']\n",
    "return_placement = one_point_sequence['returnPlacement']"
   ]
  },
  {
   "cell_type": "code",
   "execution_count": 90,
   "metadata": {},
   "outputs": [
    {
     "data": {
      "text/plain": [
       "{'y': -1.123, 'x': 0.0, 'z': 1.527, 'erroneousBall': False}"
      ]
     },
     "execution_count": 90,
     "metadata": {},
     "output_type": "execute_result"
    }
   ],
   "source": []
  },
  {
   "cell_type": "code",
   "execution_count": null,
   "metadata": {},
   "outputs": [],
   "source": [
    "### Coordinate data from pointsData\n",
    "one_point_sequence['ballHitCordinate']\n",
    "one_point_sequence['ballPeakCordinate']\n",
    "one_point_sequence['ballBounceCordinate']\n",
    "one_point_sequence['trajectoryData']\n",
    "\n",
    "one_point_sequence['serverCordinate']\n",
    "one_point_sequence['receiverCordinate']\n",
    "one_point_sequence['ballNetCordinate']"
   ]
  },
  {
   "cell_type": "code",
   "execution_count": null,
   "metadata": {},
   "outputs": [],
   "source": [
    "atp_tracking_data_dict['statsData']"
   ]
  },
  {
   "cell_type": "code",
   "execution_count": null,
   "metadata": {},
   "outputs": [],
   "source": []
  }
 ],
 "metadata": {
  "kernelspec": {
   "display_name": "Python 3",
   "language": "python",
   "name": "python3"
  },
  "language_info": {
   "codemirror_mode": {
    "name": "ipython",
    "version": 3
   },
   "file_extension": ".py",
   "mimetype": "text/x-python",
   "name": "python",
   "nbconvert_exporter": "python",
   "pygments_lexer": "ipython3",
   "version": "3.8.5"
  }
 },
 "nbformat": 4,
 "nbformat_minor": 4
}
